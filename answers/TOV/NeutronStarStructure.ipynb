{
 "cells": [
  {
   "cell_type": "code",
   "execution_count": 1,
   "id": "876333aa",
   "metadata": {},
   "outputs": [],
   "source": [
    "import numpy as np\n",
    "from integrar import integrar_RK2, calcularRadioYMasa\n",
    "import integrar\n",
    "import bisect\n",
    "import matplotlib.pyplot as plt"
   ]
  },
  {
   "cell_type": "markdown",
   "id": "d584544f",
   "metadata": {},
   "source": [
    "Physical constants in CGS units"
   ]
  },
  {
   "cell_type": "code",
   "execution_count": 2,
   "id": "9d16da3c",
   "metadata": {},
   "outputs": [],
   "source": [
    "c = 2.99792458e10 # velocidad de luz, cm/s\n",
    "h = 6.6260755e-27 # constante de Planck, erg*s\n",
    "G = 6.67259e-8 # constante de gravitacion, cm^3/g/s\n",
    "e = 4.8032068e-10 # cargar del electron, esu\n",
    "me = 9.1093897e-28 # masa del electron, g\n",
    "mB = 1.66057e-24 # masa del baryon, g\n",
    "Msol = 1.99e33 # masa del sol, g\n",
    "Rsol = 6.96e10 # radio del sol, cm\n",
    "km = 1e5 # cm"
   ]
  },
  {
   "cell_type": "markdown",
   "id": "79686e7c",
   "metadata": {},
   "source": [
    "Function that performs linear interpolation"
   ]
  },
  {
   "cell_type": "code",
   "execution_count": 3,
   "id": "d732f48e",
   "metadata": {},
   "outputs": [],
   "source": [
    "# xEn - x donde queremos obtener un valor d y\n",
    "# xCuadricula - un array de valores de x\n",
    "# yCuadricula - un array de valores de y en los lugares x\n",
    "def interpolar(xEn, xCuadricula, yCuadricula):\n",
    "    # get the upper indes\n",
    "    i = bisect.bisect_right(xCuadricula, xEn, lo=0, hi=len(xCuadricula))\n",
    "\n",
    "    # check for degenerate case\n",
    "    yDerecha    = yCuadricula[i  ];\n",
    "    xDerecha    = xCuadricula[i  ];\n",
    "    yIzquierda  = yCuadricula[i-1];\n",
    "    xIzquierda  = xCuadricula[i-1];\n",
    "    if(yDerecha == yIzquierda):\n",
    "        return yDerecha;\n",
    "\n",
    "    # do the interpolation\n",
    "    inclinacion = (yDerecha-yIzquierda) / (xDerecha-xIzquierda);\n",
    "    ySalida = yIzquierda + (xEn-xIzquierda)*inclinacion;\n",
    "    return ySalida;"
   ]
  },
  {
   "cell_type": "code",
   "execution_count": 4,
   "id": "f991a355",
   "metadata": {},
   "outputs": [
    {
     "name": "stdout",
     "output_type": "stream",
     "text": [
      "yPrueba = 0.12962962962962965\n"
     ]
    },
    {
     "data": {
      "image/png": "[encoded data removed]",
      "text/plain": [
       "<Figure size 432x288 with 1 Axes>"
      ]
     },
     "metadata": {
      "needs_background": "light"
     },
     "output_type": "display_data"
    }
   ],
   "source": [
    "xCuadricula = np.linspace(0,1,10)\n",
    "yCuadricula = xCuadricula**3\n",
    "xPrueba = 0.5\n",
    "yPrueba = interpolar(xPrueba, xCuadricula, yCuadricula)\n",
    "plt.plot(xCuadricula, yCuadricula,marker=\"+\",label=\"yCuadricula\")\n",
    "plt.scatter(xPrueba,yPrueba, label=\"yPrueba\")\n",
    "plt.legend()\n",
    "print(\"yPrueba =\", yPrueba)"
   ]
  },
  {
   "cell_type": "markdown",
   "id": "fc796d2a",
   "metadata": {},
   "source": [
    "Equation of state class"
   ]
  },
  {
   "cell_type": "code",
   "execution_count": 14,
   "id": "9192582c",
   "metadata": {},
   "outputs": [],
   "source": [
    "class EDE:\n",
    "    def __init__(self, DensidadDeMasaMin, DensidadDeMasaMax, npoints):\n",
    "        # crear array de densidad de masa\n",
    "        log10DensidadDeMasaMin = np.log10(DensidadDeMasaMin)\n",
    "        log10DensidadDeMasaMax = np.log10(DensidadDeMasaMax)\n",
    "        dlog10DensidadDeMasa = (log10DensidadDeMasaMax - log10DensidadDeMasaMin) / (npoints-1)\n",
    "        self.log10DensidadDeMasa = np.array([log10DensidadDeMasaMin + i*dlog10DensidadDeMasa for i in range(npoints)])\n",
    "        DensidadDeMasa = 10**self.log10DensidadDeMasa # g/ccm\n",
    "\n",
    "        # definir constantes para ecuacion 13 de Oppenheimer\n",
    "        mB4 = mB*mB*mB*mB;\n",
    "        c5 = c*c*c*c*c;\n",
    "        h3 = h*h*h;\n",
    "        K = np.pi*mB4*c5 / (4.*h3); # erg/ccm \n",
    "        \n",
    "        # crear array de t, presion, densidad de energia\n",
    "        phat = (DensidadDeMasa/mB * 3.*h3/(8.*np.pi))**(1./3.) / (mB*c)\n",
    "        t = 4. * np.log(phat + np.sqrt(1.+phat*phat))\n",
    "        DensidadTotal = K    * (np.sinh(t) - t) # erg/ccm\n",
    "        Presion       = K/3. * (np.sinh(t) - 8.*np.sinh(t/2.) + 3.*t) # erg/ccm\n",
    "        DensidadDeEnergia = DensidadTotal - DensidadDeMasa*c**2 # erg/ccm\n",
    "\n",
    "        # crear arrays logaritmicos para interpolacion\n",
    "        self.log10DensidadDeMasa    = np.log10(DensidadDeMasa)\n",
    "        self.log10Presion           = np.log10(Presion)\n",
    "        self.log10DensidadDeEnergia = np.log10(DensidadDeEnergia)\n",
    "\n",
    "    def calcPresion(self,DensidadDeMasa): # erg/ccm\n",
    "        x = np.log10(DensidadDeMasa)\n",
    "        xgrid = self.log10DensidadDeMasa\n",
    "        ygrid = self.log10Presion\n",
    "        return 10**interpolar(x, xgrid, ygrid)\n",
    "        \n",
    "    def calcDensidadDeMasa(self,Presion): # g/ccm\n",
    "        x = np.log10(Presion)\n",
    "        xgrid = self.log10Presion\n",
    "        ygrid = self.log10DensidadDeMasa\n",
    "        return 10**interpolar(x, xgrid, ygrid)\n",
    "\n",
    "    def calcDensidadDeEnergia(self, Presion): # erg/ccm\n",
    "        x = np.log10(Presion)\n",
    "        xgrid = self.log10Presion\n",
    "        ygrid = self.log10DensidadDeEnergia\n",
    "        return 10**interpolar(x, xgrid, ygrid)\n",
    "    \n",
    "    def calcDensidadTotal(self, Presion): # g/ccm\n",
    "        return self.calcDensidadDeEnergia(Presion)/c**2 + self.calcDensidadDeMasa(Presion)\n",
    "    \n",
    "    def hacerGrafico(self):\n",
    "        # hacer las curvas\n",
    "        pres,  = plt.loglog(10**self.log10DensidadDeMasa, 10**self.log10Presion)\n",
    "        edens, = plt.loglog(10**self.log10DensidadDeMasa, 10**self.log10DensidadDeEnergia)\n",
    "\n",
    "        # hacer la leyenda\n",
    "        plt.legend([pres,edens],[\"Presion\",\"Densidad de Energia\"])\n",
    "\n",
    "        # poner la cuadricula\n",
    "        plt.grid()\n",
    "\n",
    "        # poner las etiquas de eje\n",
    "        plt.xlabel(\"Densidad de Masa (g cm$^{-3}$)\")\n",
    "        plt.ylabel(\"Presion y Densidad de Energia (erg cm$^{-3}$)\")"
   ]
  },
  {
   "cell_type": "markdown",
   "id": "d7960b21",
   "metadata": {},
   "source": [
    "Haciendo una ecuacion de estado basado en presion de degeneracion de neutrones."
   ]
  },
  {
   "cell_type": "code",
   "execution_count": 15,
   "id": "3e52ee50",
   "metadata": {},
   "outputs": [
    {
     "data": {
      "image/png": "[encoded data removed]",
      "text/plain": [
       "<Figure size 432x288 with 1 Axes>"
      ]
     },
     "metadata": {
      "needs_background": "light"
     },
     "output_type": "display_data"
    }
   ],
   "source": [
    "# inicializar la ecuacion de estadio.\n",
    "# Solo nos importan las densidades entre 1e10 y 1e16 g/ccm,\n",
    "# pero usamos un alcance mas grande para ver como queda.\n",
    "# Calcular 200 puntas, entre de la clase EDE interpola.\n",
    "ede = EDE(1e9, 1e20, 200)\n",
    "\n",
    "# Hacer un grafico que mostra la ecuacion de estado\n",
    "ede.hacerGrafico()"
   ]
  },
  {
   "cell_type": "markdown",
   "id": "96e63bd3",
   "metadata": {},
   "source": [
    "Equations of stellar structure"
   ]
  },
  {
   "cell_type": "code",
   "execution_count": 16,
   "id": "7bef326b",
   "metadata": {},
   "outputs": [],
   "source": [
    "def dPresion_dr(r, DensidadTotal, Presion, MasaTotalInterna): # cm, g/ccm, erg/ccm, g\n",
    "    result =  -G*MasaTotalInterna/r**2 * (DensidadTotal + Presion/c**2) * (1.0 + 4.*np.pi*Presion*r**3/(MasaTotalInterna*c**2)) / (1. - 2.*G*MasaTotalInterna/(r*c**2))\n",
    "    return result # erg/ccm/cm\n",
    "    \n",
    "def dMasaTotalInterna_dr(r, DensidadTotal): # cm, g/ccm\n",
    "    return 4.*np.pi*r**2 * DensidadTotal # g"
   ]
  },
  {
   "cell_type": "markdown",
   "id": "1778976f",
   "metadata": {},
   "source": [
    "Verify that we have calculated the derivatives properly"
   ]
  },
  {
   "cell_type": "code",
   "execution_count": 18,
   "id": "94c50b97",
   "metadata": {},
   "outputs": [
    {
     "name": "stdout",
     "output_type": "stream",
     "text": [
      "dPresion_dr esperado:  1.3770551299991524e+28\n",
      "dPresion_dr calculado:  1.3770551299991524e+28\n",
      "\n",
      "dMasaTotalInterna_dr esperado:  1.25663706144e+23\n",
      "dMasaTotalInterna_dr calculado:  1.2566370614359172e+23\n"
     ]
    }
   ],
   "source": [
    "r = 1e5 # cm\n",
    "DensidadDeMasa = 1e12 # g/ccm\n",
    "Presion = ede.calcPresion(DensidadDeMasa) # erg/ccm\n",
    "MasaTotalInterna = 1e33 # g\n",
    "\n",
    "print(\"dPresion_dr esperado: \", 1.3770551299991524e+28)\n",
    "print(\"dPresion_dr calculado: \", dPresion_dr(r, DensidadDeMasa, Presion, MasaTotalInterna))\n",
    "print()\n",
    "print(\"dMasaTotalInterna_dr esperado: \", 1.25663706144e+23)\n",
    "print(\"dMasaTotalInterna_dr calculado: \",dMasaTotalInterna_dr(r, DensidadDeMasa))"
   ]
  },
  {
   "cell_type": "code",
   "execution_count": 19,
   "id": "ff99ca52",
   "metadata": {},
   "outputs": [],
   "source": [
    "# RK2 Integrador\n",
    "def integrar_RK2(r0, Presion0, MasaTotalInterna0, dr, ede, tolerancia):\n",
    "\n",
    "    # paso 0 - tambien necesitamos densidad total\n",
    "    DensidadTotal0 = ede.calcDensidadTotal(Presion0)\n",
    "    \n",
    "    # paso 1 - haz medio paso usando numeros iniciales\n",
    "    r1 = r0 + dr/2.\n",
    "    dPdr0 =          dPresion_dr(r0, DensidadTotal0, Presion0, MasaTotalInterna0)\n",
    "    dMdr0 = dMasaTotalInterna_dr(r0, DensidadTotal0)\n",
    "    Presion1          =          Presion0 + dr/2. * dPdr0\n",
    "    MasaTotalInterna1 = MasaTotalInterna0 + dr/2. * dMdr0\n",
    "    DensidadTotal1 = ede.calcDensidadTotal(Presion1)\n",
    "    \n",
    "    # paso 2 - haz paso completo usando paso 1\n",
    "    r2 = r0 + dr\n",
    "    dPdr1 =          dPresion_dr(r1, DensidadTotal1, Presion1, MasaTotalInterna1)\n",
    "    dMdr1 = dMasaTotalInterna_dr(r1, DensidadTotal1)\n",
    "    Presion2          =          Presion0 + dr * dPdr1\n",
    "    MasaTotalInterna2 = MasaTotalInterna0 + dr * dMdr1\n",
    "\n",
    "    # calcular error, adjustar paso de longitud\n",
    "    errorPresion          = abs(dPdr0 - dPdr1) / abs(dPdr0+dPdr1)\n",
    "    errorMasaTotalInterna = abs(dMdr0 - dMdr1) / abs(dMdr0+dMdr1)\n",
    "    error = max(errorPresion, errorMasaTotalInterna)\n",
    "    dr = dr * (tolerancia/error)\n",
    "    \n",
    "    # queremos usar el paso 2\n",
    "    return r2, Presion2, MasaTotalInterna2, dr"
   ]
  },
  {
   "cell_type": "code",
   "execution_count": 27,
   "id": "8ae6d239",
   "metadata": {},
   "outputs": [],
   "source": [
    "def calcularRadioYMasa(dr, tolerancia, DensidadDeMasaAlCentro, DensidadDeMasa_parar, ede, imprimir=False):\n",
    "    # condiciones iniciales (al centro de la estrella)\n",
    "    r = dr\n",
    "    DensidadDeMasa = DensidadDeMasaAlCentro\n",
    "    Presion = ede.calcPresion(DensidadDeMasa) # erg/ccm\n",
    "    DensidadTotal = ede.calcDensidadTotal(Presion) # g/ccm\n",
    "    MasaTotalInterna = 4./3. * np.pi * r**3 * DensidadTotal # g\n",
    "    \n",
    "    # hacer pasos hasta la densidad de masa esta demasiado pequeno\n",
    "    i=0\n",
    "    while DensidadDeMasa > DensidadDeMasa_parar:\n",
    "        r, Presion, MasaTotalInterna, dr = integrar_RK2(r, Presion, MasaTotalInterna, dr, ede, tolerancia)\n",
    "        DensidadDeMasa = ede.calcDensidadDeMasa(Presion)\n",
    "        \n",
    "        # imprimir el radio (km), la densidad de masa (g/ccm), y la masa total interna (g)\n",
    "        if imprimir and i%1000==0:\n",
    "            print(str(i)+\"\\t\"+str(r/km)+\"\\t\"+str(DensidadDeMasa)+\"\\t\"+str(MasaTotalInterna/Msol))\n",
    "        i = i+1\n",
    "    if imprimir:\n",
    "        print(str(i)+\"\\t\"+str(r/km)+\"\\t\"+str(DensidadDeMasa)+\"\\t\"+str(MasaTotalInterna/Msol))\n",
    "        \n",
    "    return r, MasaTotalInterna"
   ]
  },
  {
   "cell_type": "code",
   "execution_count": 28,
   "id": "97a4450c",
   "metadata": {},
   "outputs": [
    {
     "name": "stdout",
     "output_type": "stream",
     "text": [
      "Paso   Radio(km)   DensidadDeMasa(g/ccm)   MasaTotalInterna(Msol)\n",
      "0\t2e-05\t999999999994204.1\t1.7738441795966753e-17\n",
      "1000\t0.00014694480256875888\t999999999465949.1\t7.261763322560127e-15\n",
      "2000\t0.0010803891873046056\t999999970884417.9\t2.8863847003432803e-12\n",
      "3000\t0.007943402546455135\t999998425847605.9\t1.1471835338580353e-09\n",
      "4000\t0.05840519493345313\t999914901782349.9\t4.559788991676953e-07\n",
      "5000\t0.4304322609803564\t995388075366372.5\t0.00018199624673614193\n",
      "6000\t3.813034065246235\t694788683014583.4\t0.10146487513297549\n",
      "7000\t11.253987326319882\t22205140858605.824\t0.6323278769637609\n",
      "8000\t12.642501642947204\t516814322020.24725\t0.6433638577455784\n",
      "8991\t12.774588264277787\t9995707691.83614\t0.6433935783148429\n"
     ]
    }
   ],
   "source": [
    "print(\"Paso   Radio(km)   DensidadDeMasa(g/ccm)   MasaTotalInterna(Msol)\")\n",
    "\n",
    "# constantes que determinan la caulidad de la calculacion\n",
    "dr = 1 # cm\n",
    "tolerancia = 1e-3\n",
    "DensidadDeMasa_parar = 1e10\n",
    "\n",
    "# Tratar de calcular la masa y radio de solo una estrella de neutrones\n",
    "DensidadDeMasaAlCentro = 1e15\n",
    "R, M = calcularRadioYMasa(dr, tolerancia, DensidadDeMasaAlCentro, DensidadDeMasa_parar, ede, True)"
   ]
  },
  {
   "cell_type": "code",
   "execution_count": 29,
   "id": "547804db",
   "metadata": {},
   "outputs": [
    {
     "name": "stdout",
     "output_type": "stream",
     "text": [
      "######################################################\n",
      "# 5 - Calculando las Estructuras de Muchas Estrellas #\n",
      "######################################################\n",
      "\n",
      "DensidadDeMasaAlCentro(g/ccm)   Radio(km)   Masa(Msol)\n",
      "100000000000000.12 20.844312474692774 0.312200450380403\n",
      "115139539932644.64 20.29358561841555 0.3305357869777074\n",
      "132571136559011.48 19.751008820621035 0.34953481722973206\n",
      "152641796717523.7 19.216221200132253 0.3691561510569409\n",
      "175751062485479.22 18.68925269732172 0.38934649439181385\n",
      "202358964772515.34 18.169664176264057 0.4100396297601537\n",
      "232995181051537.97 17.657444692257148 0.43115321752681635\n",
      "268269579527972.9 17.152388741094875 0.45259439887813446\n",
      "308884359647747.9 16.65436191062694 0.4742539680214835\n",
      "355648030622314.44 16.163267441711437 0.4960076390053391\n",
      "409491506238043.44 15.678990638475774 0.517716521230095\n",
      "471486636345739.44 15.201579818316796 0.5392279066915884\n",
      "542867543932385.0 14.73105876239126 0.5603765891719998\n",
      "625055192527399.4 14.267457577285256 0.5809867241522695\n",
      "719685673001152.9 13.810977303059667 0.6008743011905794\n",
      "828642772854683.8 13.361772789225066 0.6198475067454728\n",
      "954095476349998.0 12.920079691198845 0.637716603151103\n",
      "1098541141987560.6 12.486125203848516 0.6542949392192555\n",
      "1264855216855296.2 12.06019262296526 0.6694012797281236\n",
      "1456348477501241.0 11.642678825521788 0.6828658028276373\n",
      "1676832936811013.5 11.233924885868575 0.6945346158663919\n",
      "1930697728883252.5 10.834371152776605 0.7042741746702832\n",
      "2222996482526192.8 10.444460255145893 0.7119751781596544\n",
      "2559547922699546.5 10.064653179680615 0.7175559255415955\n",
      "2947051702551817.0 9.695466878896065 0.7209646317458108\n",
      "3393221771895329.0 9.337408866886532 0.7221823103255022\n",
      "3906939937054609.5 8.990889949534356 0.7212228639641067\n",
      "4498432668969460.0 8.656354535295824 0.7181312395326042\n",
      "5179474679231217.0 8.334242428524437 0.712982958263202\n",
      "5963623316594638.0 8.024970776959218 0.705881796461059\n",
      "6866488450043030.0 7.728930796919247 0.6969566391123473\n",
      "7906043210907716.0 7.446492363010205 0.686357779907553\n",
      "9102981779915220.0 7.177980525190616 0.6742528390360861\n",
      "1.0481131341546838e+16 6.923713454122196 0.660822714690737\n",
      "1.2067926406393324e+16 6.684056333338743 0.6462627186110557\n",
      "1.3894954943731392e+16 6.459170481703722 0.6307613490921941\n",
      "1.5998587196060566e+16 6.249295998656676 0.6145131242093956\n",
      "1.8420699693267236e+16 6.054680273397567 0.5977101837930796\n",
      "2.120950887920195e+16 5.87556931463795 0.5805396023912697\n",
      "2.442053094548651e+16 5.712229327630083 0.5631813137315098\n",
      "2.811768697974225e+16 5.56493698277638 0.5458066013753422\n",
      "3.237457542817654e+16 5.434022618713544 0.5285772494370674\n",
      "3.727593720314944e+16 5.319864814555271 0.5116452333846537\n",
      "4.2919342601287736e+16 5.222915770910111 0.4951576204647896\n",
      "4.941713361323854e+16 5.143641900285072 0.47924408462067464\n",
      "5.689866029018309e+16 5.0826010117061395 0.46402854052193626\n",
      "6.551285568595509e+16 5.040410168125456 0.44962997042415276\n",
      "7.543120063354602e+16 5.017731813831785 0.43616234498487894\n",
      "8.685113737513554e+16 5.015242615876778 0.4237360719451365\n",
      "1.000000000000001e+17 5.033530934727821 0.41245917355940137\n",
      "Grafico muchas_estrellas.pdf cargado.\n"
     ]
    },
    {
     "data": {
      "image/png": "[encoded data removed]",
      "text/plain": [
       "<Figure size 432x288 with 1 Axes>"
      ]
     },
     "metadata": {
      "needs_background": "light"
     },
     "output_type": "display_data"
    }
   ],
   "source": [
    "print(\"######################################################\")\n",
    "print(\"# 5 - Calculando las Estructuras de Muchas Estrellas #\")\n",
    "print(\"######################################################\")\n",
    "print()\n",
    "print(\"DensidadDeMasaAlCentro(g/ccm)   Radio(km)   Masa(Msol)\")\n",
    "\n",
    "# Calcula la masa y radio de muchos estrellas de neutrinos y hacer un grafico\n",
    "DensidadDeMasaAlCentro0 = 1e14 # g/ccm\n",
    "DensidadDeMasaAlCentro1 = 1e17 # g/ccm\n",
    "NumeroDeEstrellas = 50\n",
    "DensidadesALosCentros = np.exp(np.linspace(np.log(DensidadDeMasaAlCentro0), np.log(DensidadDeMasaAlCentro1), NumeroDeEstrellas))\n",
    "ListaDeR = []\n",
    "ListaDeM = []\n",
    "for iEstrella in range(NumeroDeEstrellas):\n",
    "    DensidadDeMasaAlCentro = DensidadesALosCentros[iEstrella]\n",
    "    R,M = calcularRadioYMasa(dr, tolerancia, DensidadDeMasaAlCentro, DensidadDeMasa_parar, ede, False)\n",
    "    ListaDeR.append(R/km)\n",
    "    ListaDeM.append(M/Msol)\n",
    "    print(DensidadDeMasaAlCentro, R/km, M/Msol)\n",
    "plt.grid()\n",
    "plt.xlabel(\"Radio (km)\")\n",
    "plt.ylabel(\"Masa (Msol)\")\n",
    "plt.scatter(ListaDeR, ListaDeM)\n",
    "plt.savefig(\"muchas_estrellas.pdf\")\n",
    "print(\"Grafico muchas_estrellas.pdf cargado.\")"
   ]
  },
  {
   "cell_type": "code",
   "execution_count": null,
   "id": "60215d7e",
   "metadata": {},
   "outputs": [],
   "source": []
  }
 ],
 "metadata": {
  "kernelspec": {
   "display_name": "Python 3 (ipykernel)",
   "language": "python",
   "name": "python3"
  },
  "language_info": {
   "codemirror_mode": {
    "name": "ipython",
    "version": 3
   },
   "file_extension": ".py",
   "mimetype": "text/x-python",
   "name": "python",
   "nbconvert_exporter": "python",
   "pygments_lexer": "ipython3",
   "version": "3.8.10"
  }
 },
 "nbformat": 4,
 "nbformat_minor": 5
}
