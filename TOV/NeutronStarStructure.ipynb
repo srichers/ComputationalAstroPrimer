{
 "cells": [
  {
   "cell_type": "markdown",
   "id": "3e4da05a",
   "metadata": {},
   "source": [
    "<b>Neutron stars are laboratories for physics in conditions more extreme than anything we can do here on Earth.</b> There are mysteries hidden in these stars and we would learn a ton if only we could see their interiors in detail. One of the biggest open questions of physics today is: how does the strong nuclear force work? This is the key for describing nuclei from first principles, and the details of such a fundamental force are important in so many areas of physics and astronomy.\n",
    "\n",
    "<b>Comparing theoretical neutron stars against real ones will verify whether a nuclear equation of state is correct.</b>"
   ]
  },
  {
   "cell_type": "markdown",
   "id": "dfe26a1e",
   "metadata": {},
   "source": [
    "# Let's start!"
   ]
  },
  {
   "cell_type": "markdown",
   "id": "7753cc9d",
   "metadata": {},
   "source": [
    "There are some code libraries that we need to import.\n",
    "\n",
    "- <b>Numpy</b> contains methods and objects that let us do mathematical operations easily and quickly.\n",
    "- We will use <b>bisect</b> to invert equations numerically.\n",
    "- <b>Matplotlib</b> lets us draw graphics."
   ]
  },
  {
   "cell_type": "code",
   "execution_count": null,
   "id": "876333aa",
   "metadata": {},
   "outputs": [],
   "source": [
    "import numpy as np\n",
    "import bisect\n",
    "import matplotlib.pyplot as plt"
   ]
  },
  {
   "cell_type": "markdown",
   "id": "8cc4f736",
   "metadata": {},
   "source": [
    "There are various <b>physical constants</b> that we are going to need in our calculations."
   ]
  },
  {
   "cell_type": "code",
   "execution_count": null,
   "id": "bba995ea",
   "metadata": {},
   "outputs": [],
   "source": [
    "c = 2.99792458e10 # speed of light, cm/s\n",
    "h = 6.6260755e-27 # Planck constnat, erg*s\n",
    "G = 6.67259e-8 # gravitational constant, cm^3/g/s\n",
    "e = 4.8032068e-10 # charge of an electron, esu\n",
    "me = 9.1093897e-28 # mass of an electron, g\n",
    "mB = 1.66057e-24 # mass of a baryon, g\n",
    "Msun = 1.99e33 # mass of the sun, g\n",
    "Rsun = 6.96e10 # radius of the sun, cm\n",
    "km = 1e5 # cm"
   ]
  },
  {
   "cell_type": "markdown",
   "id": "dc0e265f",
   "metadata": {},
   "source": [
    "# Ingredient 1: Equation of State"
   ]
  },
  {
   "cell_type": "markdown",
   "id": "9be4a7cf",
   "metadata": {},
   "source": [
    "The first step of the puzzle is the equation of state, which <b>relates the pressure with the density</b>. Most neutron stars that we see have had a lot of time to cool down, which allows us to assume that they are cold enough that we don't have to think about their temperature. However, neutrons are so dense that we have to treat them as degenerate fermions, and because of that they can have a lot of kinetic energy. In fact, they can have so much energy that they become relativistic.\n",
    "\n",
    "Find Equations 11-15 in Ref. [1] (reproduced from an article by Chandrasekhar [2]), which show how to describe this process analytically. Note the notation and nomenclature used in said article:\n",
    "- The <b>total density</b> $\\rho = \\rho_\\mathrm{mass} + \\rho_\\mathrm{energy}$ is the sum of the mass and energy density, respectively (units of erg/cm$^3$).\n",
    "- The <b>mass density</b> is $\\rho_\\mathrm{mass} = \\mu_0 N/V$ (g/cm$^3$).\n",
    "- $N$ and $V$ are the number of particles and the volume, respectively. However, this is not too important, since they are never actually used in the final equations.\n",
    "\n",
    "There is no closed form solution for the equations, and because of that we will use a parameterized form of the equations. The symbol $t$ does not mean anything physical - it is just a useful tool for solving the equations.\n",
    "\n",
    "\n",
    "- [1] <b>Oppenheimer, J. R., & Volkoff, M.</b> ”On Massive Neutron Star Cores.” Physical Review, 55 (1939). https://journals.aps.org/pr/pdf/10.1103/PhysRev.55.374\n",
    "- [2] <b>Chandrasekhar, S.</b> ”The highly collapsed configurations of a stellar mass (Second paper).” Monthly Notices to the Royal Astronomical Society, 95 (1935). http://articles.adsabs.harvard.edu/pdf/1935MNRAS..95..207C"
   ]
  },
  {
   "cell_type": "markdown",
   "id": "fd11f3ec",
   "metadata": {},
   "source": [
    "## [5 points] Function for interpolating data\n",
    "\n",
    "The physics of dense matter involves quite complicated equations. <b>We will need to solve equations that are not possible to solve analytically.</b> Here we will write a function to interpolate a mathematical function in order to make our future work easier.\n",
    "\n",
    "<b>Uncomment the function and execute the code</b> to try the interpolation function."
   ]
  },
  {
   "cell_type": "code",
   "execution_count": null,
   "id": "68aa9a94",
   "metadata": {},
   "outputs": [],
   "source": [
    "# xIn - x where we want to obtain a value of y\n",
    "# xGrid - an array of x values\n",
    "# yGrid - an array of y values evaluated at at the x locations\n",
    "#def interpolate(xIn, xGrid, yGrid):\n",
    "#    # get the upper indices\n",
    "#    i = bisect.bisect_right(xGrid, xIn, lo=0, hi=len(xGrid))\n",
    "#\n",
    "#    # check for degenerate case\n",
    "#    yRight    = yGrid[i  ];\n",
    "#    xRight    = xGrid[i  ];\n",
    "#    yLeft  = yGrid[i-1];\n",
    "#    xLeft  = xGrid[i-1];\n",
    "#    if(yRight == yLeft):\n",
    "#        return yRight;\n",
    "#\n",
    "#    # do the interpolation\n",
    "#    slope = (yRight-yLeft) / (xRight-xLeft);\n",
    "#    yOut = yLeft + (xIn-xLeft)*slope;\n",
    "#    return yOut;\n",
    "\n",
    "xGrid = np.linspace(0,1,10)\n",
    "yGrid = xGrid**3\n",
    "xTest = 0.5\n",
    "yTest = interpolate(xTest, xGrid, yGrid)\n",
    "plt.plot(xGrid, yGrid,marker=\"+\",label=\"yGrid\")\n",
    "plt.scatter(xTest,yTest, label=\"yTest\")\n",
    "plt.legend()\n",
    "print(\"yTest =\", yTest)"
   ]
  },
  {
   "cell_type": "markdown",
   "id": "6e831af7",
   "metadata": {},
   "source": [
    "## [30 points] The Equation of State Class: calculate the pressure and internal energy at any mass density\n",
    "1. <b>Find the equation of state of relativistic dense matter in the article by Oppenheimer y Volkoff.</b> What type of equation is it? If we have the mass density, can we calculate the pressure analytically? If we have the pressure, can we calculate the mass density analytically?\n",
    "1. In the constructor \\_\\_init\\_\\_():\n",
    "    1. <b>Uncomment the first block of code and print the array 'MassDensity'.</b> We are going to find all of the properties of the material at each of these values of mass density. What is the range of densities that we are looking at? How dense are atomic nuclei?\n",
    "    1. <b>Write the expression for calculating the constant K</b> (Equation 13 in [1]). Verify that it has units of energy density.\n",
    "    1. <b>Use the array to calculate an array of momenta ($\\hat{p}$, Equation 15 in [1]). Verify that it has units of momentum.\n",
    "    1. <b>Use the array of momenta to calculate an array of values of t</b> (Equation 14 in [1]). Verify that it is dimensionless.\n",
    "    1. <b>Use the array of $t$ values to calculate an array of pressure values</b> (called Pressure, Equation 12) and total density (called TotalDensity, Equation 11). Verify that both quantities have units of energy density.\n",
    "    1. <b>Uncomment the last block of code</b> to save the arrays in the EOS class.\n",
    "1. Now we have all of the equations, but how can we calculate the pressure if we only know the density? <b>Write the functions calcPressure y calcEnergyDensity</b>, using calcMassDensity as an example.\n",
    "1. We will also need the total density, including mass and energy. <b>Write the function calcTotalDensity</b>. Make sure that the units of the returned quantity are units of mass density and not energy density."
   ]
  },
  {
   "cell_type": "code",
   "execution_count": null,
   "id": "ced5dacd",
   "metadata": {
    "scrolled": true
   },
   "outputs": [],
   "source": [
    "class EOS:\n",
    "    def __init__(self, MassDensityMin, MassDensityMax, npoints):\n",
    "        # create an array of mass densities\n",
    "        # Step 2A\n",
    "        #log10MassDensityMin = np.log10(MassDensityMin)\n",
    "        #log10MassDensityMax = np.log10(MassDensityMax)\n",
    "        #dlog10MassDensity = (log10MassDensityMax - log10MassDensityMin) / (npoints-1)\n",
    "        #self.log10MassDensity = np.array([log10MassDensityMin + i*dlog10MassDensity for i in range(npoints)])\n",
    "        #MassDensity = 10**self.log10MassDensity # g/ccm\n",
    "\n",
    "        # Define constants needed for Ecuacion 13 in the Oppenheimer article\n",
    "        # Step 2B\n",
    "        #K = IMPLEMENT_ME; # erg/ccm\n",
    "        \n",
    "        # Create an array of phat values\n",
    "        # Step 2C\n",
    "        #phat = IMPLEMENT_ME # g*cm/s\n",
    "\n",
    "        # Create an array of values of t\n",
    "        # Step 2D\n",
    "        #t = IMPLEMENT ME\n",
    "        \n",
    "        # Create arrays of pressure and energy density\n",
    "        # Step 2E\n",
    "        #TotalDensity  = IMPLEMENT ME # erg/ccm\n",
    "        #Pressure      = IMPLEMENT ME # erg/ccm\n",
    "        #EnergyDensity = IMPLEMENT ME # erg/ccm\n",
    "\n",
    "        # Create logarithmic arrays for interpolation\n",
    "        # Step 2F\n",
    "        #self.log10MassDensity   = np.log10(MassDensity)\n",
    "        #self.log10Pressure      = np.log10(Pressure)\n",
    "        #self.log10EnergyDensity = np.log10(EnergyDensity)\n",
    "        \n",
    "    # Interpolate pressure based on the mass density\n",
    "    # Step 3\n",
    "    #def calcPressure(self,MassDensity): # erg/ccm\n",
    "    #    x = IMPLEMENT ME\n",
    "    #    xgrid = IMPLEMENT ME\n",
    "    #    ygrid = IMPLEMENT ME\n",
    "    #    return IMPLEMENT ME\n",
    "        \n",
    "    # Interpolate mass density given the pressure\n",
    "    def calcMassDensity(self,Pressure): # g/ccm\n",
    "        #x = np.log10(Pressure)\n",
    "        #xgrid = self.log10Pressure\n",
    "        #ygrid = self.log10MassDensity\n",
    "        return 10**interpolate(x, xgrid, ygrid)\n",
    "\n",
    "    # Interpolate the energy density given the mass density\n",
    "    # Step 3\n",
    "    def calcEnergyDensity(self, Pressure): # erg/ccm\n",
    "        #x = IMPLEMENT ME\n",
    "        #xgrid = IMPLEMENT ME\n",
    "        #ygrid = IMPLEMENT ME\n",
    "        #return IMPLEMENT ME\n",
    "    \n",
    "    # Calculate the total density based on the pressue\n",
    "    # Step 4\n",
    "    def calcTotalDensity(self, Pressure): # g/ccm\n",
    "        #return IMPLEMENT ME\n",
    "    \n",
    "# Initialize the equation of state.\n",
    "# We just care about densities between 1e10 and 1e20 g/ccm,\n",
    "# but we will plot a wider range to see how it looks.\n",
    "# Calculate 200 points within the EOS class.\n",
    "eos = EOS(1e9, 1e20, 200)\n",
    "\n",
    "# Make a plot that shows the equation of state\n",
    "pres,  = plt.loglog(10**eos.log10MassDensity, 10**eos.log10Pressure, label=\"Pressure\")\n",
    "edens, = plt.loglog(10**eos.log10MassDensity, 10**eos.log10EnergyDensity, label=\"Energy Density\")\n",
    "\n",
    "# Draw the legend\n",
    "plt.legend()\n",
    "\n",
    "# Draw the axis labels\n",
    "plt.xlabel(\"Mass Density (g cm$^{-3}$)\")\n",
    "plt.ylabel(\"Pressure and Energy Density (erg cm$^{-3}$)\")\n",
    "plt.show()"
   ]
  },
  {
   "cell_type": "markdown",
   "id": "6fdfb9b8",
   "metadata": {},
   "source": [
    "Now we have a description of dense matter! Put we need to use it to calculate properties of neutron stars. <b>Comparing our theoretical neutron stars against real ones will verify whether our equation of state is correct.</b>"
   ]
  },
  {
   "cell_type": "markdown",
   "id": "e54cc7fc",
   "metadata": {},
   "source": [
    "# [40 points] Ingredient 2: Equations of Stellar Structure"
   ]
  },
  {
   "cell_type": "markdown",
   "id": "7fe7f2ef",
   "metadata": {},
   "source": [
    "We are not going to re-derive the equations of relativistic stellar structure here. Instead, we will find the relevant equations in the scientific literature and convert them into code.\n",
    "\n",
    "The important quantities are:\n",
    "- $\\rho_\\mathrm{tot}$: the total density of mass and energy together\n",
    "- $M(r)$: the mass internal to a radius $r$\n",
    "- $P$: the pressure\n",
    "\n",
    "Now, the work:\n",
    "\n",
    "1. <b>Find the equations of relativistic star structure </b>in the article by Oppenheimer and Volkovv</br>\n",
    "https://journals.aps.org/pr/pdf/10.1103/PhysRev.55.374\n",
    "\n",
    "1. Before implementing the equations, <b>verify that we can recover the equations of regular star structure </b>in the limit of a non-relativistic star (i.e., $P << \\rho_\\mathrm{tot}$).\n",
    "\n",
    "1. Then, <b>write the code to calculate the derivatives of pressure and total internal mass</b>.\n",
    "\n",
    "1. <b>Execute the code</b> and verify that the numbers coincide with the expected values (they were calculated previously).\n",
    "\n",
    "Now we have the differential equations that we are going to use to construct theoretical neutron stars. <b>Comparing our theoretical neutron stars with real ones will verify whether this equation of state is correct.</b>"
   ]
  },
  {
   "cell_type": "code",
   "execution_count": null,
   "id": "3ebcfc82",
   "metadata": {},
   "outputs": [],
   "source": [
    "# How quickly does the pressure change with radius\n",
    "# based on the radius r, the total density, the pressure, and the total mass internal to the radius r\n",
    "# Step 3\n",
    "def dPressure_dr(r, TotalDensity, Pressure, TotalInternalMass): # cm, g/ccm, erg/ccm, g\n",
    "    #result = IMPLEMENT ME # erg/ccm/cm\n",
    "    return result\n",
    "    \n",
    "# How quicly does the total internal mass change with radius\n",
    "# based on the radius r and the total density at that radius\n",
    "# Step 3\n",
    "def dTotalInternalMass_dr(r, TotalDensity): # cm, g/ccm\n",
    "    #result = IMPLEMENT ME # g\n",
    "    return result\n",
    "\n",
    "r = 1e5 # cm\n",
    "MassDensity = 1e12 # g/ccm\n",
    "Pressure = eos.calcPressure(MassDensity) # erg/ccm\n",
    "TotalInternalMass = 1e33 # g\n",
    "\n",
    "print(\"dPressure_dr expected: \", 1.3770551299991524e+28)\n",
    "print(\"dPressure_dr calculated: \", dPressure_dr(r, MassDensity, Pressure, TotalInternalMass))\n",
    "print()\n",
    "print(\"dTotalInternalMass_dr expected: \", 1.25663706144e+23)\n",
    "print(\"dTotalInternalMass_dr calculated: \",dTotalInternalMass_dr(r, MassDensity))"
   ]
  },
  {
   "cell_type": "markdown",
   "id": "9a9ad93e",
   "metadata": {},
   "source": [
    "We have the differential equations in the computer! We are going to <b>integrate the equations approximately</b> with the method of finite differences. First, notice that a derivative is approximated by a fraction of differences:\n",
    "\n",
    "$\\frac{df}{dr} \\approx \\frac{\\Delta f}{\\Delta r}$\n",
    "\n",
    "So, if we know the pressure $P$ and internal mass $M$ at the radius $r$, we can advance a step $dr$ using\n",
    "\n",
    "$P(r+dr) \\approx P(r) + dr \\frac{dP}{dr}$\n",
    "\n",
    "$M(r+dr) \\approx M(r) + dr \\frac{dM}{dr}$\n",
    "\n",
    "<b>Write a function that advances $P$ y $M$ by one step $dr$.</b>\n",
    "- `r0` is the radius r at the beginning of the step\n",
    "- `Pressure0` is the pressure at r0\n",
    "- `TotalInternalMass0` es la total internal mass inside of r0\n",
    "- `dr` is the size of the step\n",
    "- `eos` is the equation of state class that we wrote above"
   ]
  },
  {
   "cell_type": "code",
   "execution_count": null,
   "id": "cf5eba6e",
   "metadata": {},
   "outputs": [],
   "source": [
    "# Advance the pressure and total internal mass outward by a step dr\n",
    "def integrate(r0, Pressure0, TotalInternalMass0, dr, eos):\n",
    "\n",
    "    # Calculate the total density at radius r0 using the EOS class\n",
    "    #TotalDensity0 = IMPLEMENT ME\n",
    "    \n",
    "    # Calculate the derivatives at radius r0 using the functions you wrote above\n",
    "    #dPdr = IMPLEMENT ME\n",
    "    #dMdr = IMPLEMENT ME\n",
    "\n",
    "    # Advance the radius, pressure, and total internal mass\n",
    "    #r1 = IMPLEMENT ME\n",
    "    #Pressure1          = IMPLEMENT ME\n",
    "    #TotalInternalMass1 = IMPLEMENT ME\n",
    "\n",
    "    return r1, Pressure1, TotalInternalMass1"
   ]
  },
  {
   "cell_type": "markdown",
   "id": "e9d82e84",
   "metadata": {},
   "source": [
    "Finally, we will write <b>the function for constructing a complete neutron star</b>. We will choose a central density and then integrate the equations until we arrive at the surface. All we need to do is use our function `integrate` to take many steps.\n",
    "\n",
    "- `dr` is the size of each step, starting from $r=0$. Smaller values of `dr` make for a more precise solution.\n",
    "- `CentralMassDensity` is the mass density at the center of the star. We will choose a value, and the rest of the star will be calculated.\n",
    "- `MassDensity_stop` is the mass density at which we will stop the outward integration. This can be understood as the density which we choose to define \"the surface\".\n",
    "- `print_values` allows us to print values at every step\n",
    "\n",
    "1. <b>Uncomment the first block of code.</b> These are the conditions at the center of the star, determined by the `CentralMassDensity`\n",
    "1. <b>Write the total mass inside the first step. </b>This is just basic physics - don't over-complicate it\n",
    "1. The while loop will keep taking steps until the mass density is sufficiently small.\n",
    "    1. <b>Use the function `integrate`</b> to take a step in r, Pressure, and TotalInternalMass\n",
    "    1. <b>Use the function `eos.calcMassDensity`</b> to obtain the mass density after the step.\n",
    "    1. <b>Which values are we printing at every step? What do they mean?</b>\n",
    "1. Execute the code below to construct a star with central mass density of $10^{15}\\,\\mathrm{g/cm}^3$. <b>What are the radius and total mass of the resulting neutron star?</b>"
   ]
  },
  {
   "cell_type": "code",
   "execution_count": null,
   "id": "198c22c8",
   "metadata": {},
   "outputs": [],
   "source": [
    "def calculateRadiusAndMass(dr, CentralMassDensity, MassDensity_stop, eos, print_values=False):\n",
    "    # Initial conditions (at the center of the star). Take the first step\n",
    "    # Step 1\n",
    "    r = dr\n",
    "    MassDensity = CentralMassDensity\n",
    "    Pressure = eos.calcPressure(MassDensity) # erg/ccm\n",
    "    TotalDensity = eos.calcTotalDensity(Pressure) # g/ccm\n",
    "    \n",
    "    # Calculate the internal mass after the first step\n",
    "    # Step 2\n",
    "    #TotalInternalMass = IMPLEMENT ME # g\n",
    "    \n",
    "    # Take radial steps until the mass density is sufficiently small\n",
    "    i=0\n",
    "    while MassDensity > MassDensity_stop:\n",
    "\n",
    "        # Advance the radius, pressure, and total internal mass by a step dr using the function integrate()\n",
    "        # Step 3A\n",
    "        #r, Pressure, TotalInternalMass = IMPLEMENT ME\n",
    "\n",
    "        # Calculate the mass density at the new radius using the EOS class\n",
    "        # Step 3B\n",
    "        #MassDensity = IMPLEMENT ME\n",
    "        \n",
    "        # Print the radius (km), mass density (g/ccm), and the total internal mass (Msun)\n",
    "        if print_values and i%1000==0:\n",
    "            print(str(i)+\"\\t\"+str(r/km)+\"\\t\"+str(MassDensity)+\"\\t\"+str(TotalInternalMass/Msun))\n",
    "        i = i+1\n",
    "    if print_values:\n",
    "        print(str(i)+\"\\t\"+str(r/km)+\"\\t\"+str(MassDensity)+\"\\t\"+str(TotalInternalMass/Msun))\n",
    "        \n",
    "    return r, TotalInternalMass\n",
    "\n",
    "\n",
    "\n",
    "print(\"Step   Radius(km)   MassDensity(g/ccm)   TotalInternalMass(Msol)\")\n",
    "\n",
    "# Constants that determine the quality of the calculation\n",
    "dr = 10 # cm\n",
    "MassDensity_stop = 1e10 # g/ccm\n",
    "\n",
    "# Try to calculate the mass and radius of just one neutron star\n",
    "CentralMassDensity = 1e15\n",
    "R, M = calculateRadiusAndMass(dr, CentralMassDensity, MassDensity_stop, eos, True)"
   ]
  },
  {
   "cell_type": "markdown",
   "id": "85f7e1dd",
   "metadata": {},
   "source": [
    "# [5 points] Numerical Error\n",
    "\n",
    "The parameters  `dr` y `MassDensity_stop` were chosen by us. <b>The properties of the neutron stars we calculate should be independent of our choices, else the numbers we get are just artifacts of our finite-step approximation and don't provide any meaningful information about the solution to the physical equations.</b>.\n",
    "1. <b>Calculate the radius and mass with different values of these quantities.</b> How large can we make `dr` before the results significantly change?"
   ]
  },
  {
   "cell_type": "code",
   "execution_count": null,
   "id": "4dde7c85",
   "metadata": {},
   "outputs": [],
   "source": [
    "dr = 10 # cm\n",
    "MassDensity_stop = 1e10 # g/ccm\n",
    "CentralMassDensity = 1e15\n",
    "R, M = calculateRadiusAndMass(dr, CentralMassDensity, MassDensity_stop, eos, False)\n",
    "print(\"radius =\",R/1e5,\"km\")\n",
    "print(\"mass =\",M/Msun,\"Msun\")"
   ]
  },
  {
   "cell_type": "markdown",
   "id": "149a4f82",
   "metadata": {},
   "source": [
    "# [ 5 points] That was one star. What kinds of neutron stars are possible?\n",
    "\n",
    "Now we are going to calculate the mass and radius of various neutron stars with different central densities.\n",
    "1. What is the array `CentralDensities` for?\n",
    "1. What do the quantities `Rlist` y `Mlist` mean?\n",
    "1. <b>Execute the code below to construct many neutron stars.</b> This could take a few minutes."
   ]
  },
  {
   "cell_type": "code",
   "execution_count": null,
   "id": "5c6f3443",
   "metadata": {},
   "outputs": [],
   "source": [
    "print(\"CentralMassDensity(g/ccm)   Radius(km)   Mass(Msun)\")\n",
    "\n",
    "# Calculate the mass and radius of many neutron stars and make a plot\n",
    "CentralMassDensity0 = 1e14 # g/ccm\n",
    "CentralMassDensity1 = 1e17 # g/ccm\n",
    "NumberOfStars = 50\n",
    "\n",
    "# Create an array of central densities. Each element represents a different star.\n",
    "CentralDensities = np.exp(np.linspace(np.log(CentralMassDensity0), np.log(CentralMassDensity1), NumberOfStars))\n",
    "\n",
    "# Create empty lists of radii and masses\n",
    "Rlist = []\n",
    "Mlist = []\n",
    "\n",
    "# Loop over the central densities and obtain a radius and mass for each\n",
    "for iStar in range(NumberOfStars):\n",
    "    CentralMassDensity = CentralDensities[iStar]\n",
    "    R,M = calculateRadiusAndMass(dr, CentralMassDensity, MassDensity_stop, eos, False)\n",
    "    Rlist.append(R/km)\n",
    "    Mlist.append(M/Msun)\n",
    "    print(CentralMassDensity, R/km, M/Msun)\n",
    "    \n",
    "# Draw a plot of the data\n",
    "plt.grid()\n",
    "plt.xlabel(\"Radius (km)\")\n",
    "plt.ylabel(\"Mass (Msun)\")\n",
    "plt.scatter(Rlist, Mlist)"
   ]
  },
  {
   "cell_type": "markdown",
   "id": "823d0916",
   "metadata": {},
   "source": [
    "# [15 points] Finally, the science!\n",
    "1.  <b>Understand the plot</b>\n",
    "    1. Which point corresponds to the smallest central density?\n",
    "    1. Which star is the largest?\n",
    "    1. Why can't we make a neutron star with an arbitrary mass and radius?\n",
    "    1. What is the maximum neutron star mass we can make with our theoretical equation of state?\n",
    "    \n",
    "1. <b>Compare our results to real neutron stars.</b> Go to https://stellarcollapse.org/index.php/nsmasses.html. You can see that all of the neutron star masses have error bars of very different sizes.\n",
    "    1. What is the largest mass with small error bars?\n",
    "    1. Which measured masses are compatible with those predicted by our theoretical equation of state?\n",
    "    \n",
    "1. Go to the article at https://arxiv.org/abs/1912.05703 and look at Figure 1. NICER is an instrument on the International Space Station, and with it scientists are trying to infer the mass and radius of neutron stars more precisely in order to better understand the equation of state. This figure shows the uncertainty band in neutron star masses and radii based on measurements of the light coming from the neutron stars. <b>Are our results within the measurement errors indicated by the figure?</b>\n",
    "\n",
    "1. Go to the article at https://arxiv.org/abs/1701.02752 and look at Figure 2. The figure shows the results of several more complicated theories of the equation of state. <b>How many of those theories could be correct?</b>\n",
    "\n",
    "1. <b>Open questions</b>:\n",
    "    1. How interesting are discoveries in this field to the general public?\n",
    "    1. What are we missing from our theories?\n",
    "    1. Is our theory of the equation of state wrong or just a piece of a more complete theory?\n",
    "    1. How could somebody contribute to this field of research?"
   ]
  },
  {
   "cell_type": "code",
   "execution_count": null,
   "id": "dc19a649",
   "metadata": {},
   "outputs": [],
   "source": []
  }
 ],
 "metadata": {
  "kernelspec": {
   "display_name": "Python 3 (ipykernel)",
   "language": "python",
   "name": "python3"
  },
  "language_info": {
   "codemirror_mode": {
    "name": "ipython",
    "version": 3
   },
   "file_extension": ".py",
   "mimetype": "text/x-python",
   "name": "python",
   "nbconvert_exporter": "python",
   "pygments_lexer": "ipython3",
   "version": "3.8.10"
  }
 },
 "nbformat": 4,
 "nbformat_minor": 5
}
