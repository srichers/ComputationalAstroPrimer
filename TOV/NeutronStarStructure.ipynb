{
 "cells": [
  {
   "cell_type": "markdown",
   "id": "3e4da05a",
   "metadata": {},
   "source": [
    "Abre este notebook en binder: https://mybinder.org/v2/gh/srichers/ComputationalAstroPrimer/answers?labpath=answers%2FTOV%2FNeutronStarStructure.ipynb\n",
    "\n",
    "<b>Estrellas de neutrones son los laboratorios de física mas extraños que podemos hacer aquí en la Tierra.</b> Hay misterios ocultos en estas estrellas y aprenderíamos mucho si tan solo pudiéramos verlos en detalle. Una de las preguntas mas grandes de física hoy es, ¿como funciona la fuerza nuclear fuerte? Esta es la clave de describir núcleos de primeros principios, y los detalles de una fuerza tan fundamental es importante en todas las áreas de la física y astronomía.\n",
    "\n",
    "<b>Comparar nuestras estrellas teoreticas contra estrellas reales va a verificar si este ecuacion de estado sea correcto.</b>"
   ]
  },
  {
   "cell_type": "markdown",
   "id": "dfe26a1e",
   "metadata": {},
   "source": [
    "# Para Comenzar"
   ]
  },
  {
   "cell_type": "markdown",
   "id": "7753cc9d",
   "metadata": {},
   "source": [
    "Hay bibliotecas de código que necesitamos importar.\n",
    "\n",
    "- <b>Numpy</b> contiene metodos y objetos que dejan que hacemos operaciones matematicas fácilmente y rapidamente.\n",
    "- Vamos a usar <b>bisect</b> para invertir ecuaciones numéricamente.\n",
    "- <b>Matplotlib</b> deja que podemos dibujar graficos."
   ]
  },
  {
   "cell_type": "code",
   "execution_count": 2,
   "id": "876333aa",
   "metadata": {},
   "outputs": [],
   "source": [
    "import numpy as np\n",
    "import bisect\n",
    "import matplotlib.pyplot as plt"
   ]
  },
  {
   "cell_type": "markdown",
   "id": "8cc4f736",
   "metadata": {},
   "source": [
    "Hay varios <b>constantes de la naturaleza</b> que necesitaremos en nuestras calculaciones."
   ]
  },
  {
   "cell_type": "code",
   "execution_count": 3,
   "id": "bba995ea",
   "metadata": {},
   "outputs": [],
   "source": [
    "c = 2.99792458e10 # velocidad de luz, cm/s\n",
    "h = 6.6260755e-27 # constante de Planck, erg*s\n",
    "G = 6.67259e-8 # constante de gravitacion, cm^3/g/s\n",
    "e = 4.8032068e-10 # cargar del electron, esu\n",
    "me = 9.1093897e-28 # masa del electron, g\n",
    "mB = 1.66057e-24 # masa del baryon, g\n",
    "Msol = 1.99e33 # masa del sol, g\n",
    "Rsol = 6.96e10 # radio del sol, cm\n",
    "km = 1e5 # cm"
   ]
  },
  {
   "cell_type": "markdown",
   "id": "dc0e265f",
   "metadata": {},
   "source": [
    "# Ingrediente 1: Ecuación de Estado"
   ]
  },
  {
   "cell_type": "markdown",
   "id": "9be4a7cf",
   "metadata": {},
   "source": [
    "El primer pedazo del rompecabezas es la ecuación de estado, que <b>relaciona el presión con la densidad</b>. Usualmente se considera que las estrellas de neutrones han tenido mucho tiempo para enfriar. Por ende, se asume que son tan frías que no tenemos que pensar de temperatura. Sin embargo, los neutrones son fermiones degenerados, y por eso pueden tener mucha energía. De hecho, pueden tener tanta energía a nivel relativista.\n",
    "\n",
    "Encuentra las ecuaciones 11-15 en la Ref. [1] (reproducidos de Chandrasekhar [2]), que muestran como describir este proceso de manera analítica. Tengan una cuenta la notación y nomenclatura empleada en dicho artículo:\n",
    "- La <b>densidad total</b> $\\rho = \\rho_\\mathrm{masa} + \\rho_\\mathrm{energia}$ es la densidad de masa y energía respectivamente (unidades de erg/cm$^3$).\n",
    "- La <b>densidad de masa</b> es $\\rho_\\mathrm{masa} = \\mu_0 N/V$ (g/cm$^3$).\n",
    "- $N$ y $V$ son numero de partículas y el volumen respectivamente. \n",
    "Sin embargo esto no es tan importante ya que nunca serán usados.\n",
    "\n",
    "No hay una forma cerrada de los ecuaciones, y por eso usaremos una parametrización para éstas. El símbolo $t$ no significa nada - solo es algo útil para las matemáticas.\n",
    "\n",
    "\n",
    "- <b>Chandrasekhar, S.</b> ”The highly collapsed configurations of a stellar mass (Second paper).” Monthly Notices to the Royal Astronomical Society, 95 (1935). http://articles.adsabs.harvard.edu/pdf/1935MNRAS..95..207C\n",
    "-  <b>Oppenheimer, J. R., & Volkoff, M.</b> ”On Massive Neutron Star Cores.” Physical Review, 55 (1939). http://www.mpia.de/homes/fendt/Lehre/Vorlesung_CO/1939_oppenheimer_volkoff.pdf"
   ]
  },
  {
   "cell_type": "markdown",
   "id": "fd11f3ec",
   "metadata": {},
   "source": [
    "## Funcion para interpolar los datos\n",
    "\n",
    "La física de materia densa trata de funciones complejas. <b>Necesitaremos resolver ecuaciones que no son posibles resolver analiticamente.</b> Aquí escribimos una funcion para poder interpolar una funcion para hacer que nuestro trabajo en el futuro sea mas facil.\n",
    "\n",
    "<b>Descomenten la función y ejecuten el codigo</b> para probar la función."
   ]
  },
  {
   "cell_type": "code",
   "execution_count": 6,
   "id": "68aa9a94",
   "metadata": {},
   "outputs": [
    {
     "name": "stdout",
     "output_type": "stream",
     "text": [
      "yPrueba = 0.12962962962962965\n"
     ]
    },
    {
     "data": {
      "image/png": "[encoded data removed]",
      "text/plain": [
       "<Figure size 432x288 with 1 Axes>"
      ]
     },
     "metadata": {
      "needs_background": "light"
     },
     "output_type": "display_data"
    }
   ],
   "source": [
    "# xEn - x donde queremos obtener un valor d y\n",
    "# xCuadricula - un matriz de valores de x\n",
    "# yCuadricula - un matriz de valores de y en los lugares x\n",
    "#def interpolar(xEn, xCuadricula, yCuadricula):\n",
    "#    # get the upper indes\n",
    "#    i = bisect.bisect_right(xCuadricula, xEn, lo=0, hi=len(xCuadricula))\n",
    "#\n",
    "#    # check for degenerate case\n",
    "#    yDerecha    = yCuadricula[i  ];\n",
    "#    xDerecha    = xCuadricula[i  ];\n",
    "#    yIzquierda  = yCuadricula[i-1];\n",
    "#    xIzquierda  = xCuadricula[i-1];\n",
    "#    if(yDerecha == yIzquierda):\n",
    "#        return yDerecha;\n",
    "#\n",
    "#    # do the interpolation\n",
    "#    inclinacion = (yDerecha-yIzquierda) / (xDerecha-xIzquierda);\n",
    "#    ySalida = yIzquierda + (xEn-xIzquierda)*inclinacion;\n",
    "#    return ySalida;\n",
    "\n",
    "xCuadricula = np.linspace(0,1,10)\n",
    "yCuadricula = xCuadricula**3\n",
    "xPrueba = 0.5\n",
    "yPrueba = interpolar(xPrueba, xCuadricula, yCuadricula)\n",
    "plt.plot(xCuadricula, yCuadricula,marker=\"+\",label=\"yCuadricula\")\n",
    "plt.scatter(xPrueba,yPrueba, label=\"yPrueba\")\n",
    "plt.legend()\n",
    "print(\"yPrueba =\", yPrueba)"
   ]
  },
  {
   "cell_type": "markdown",
   "id": "6e831af7",
   "metadata": {},
   "source": [
    "## La clase de la ecuación de estado: saber la presión y energia interna en cualquier densidad de masa\n",
    "1. <b>Encuentra la ecuación de estado de materia densa relativistas en el articulo de Oppenheimer y Volkoff.</b> ¿Que tipo de ecuación es? ¿Si tenemos la densidad de masa, podemos calcular la presión analiticalmente? ¿Si tenemos la presión, podemos calcular la densidad de masa analiticalmente?\n",
    "1. En el constructor \\_\\_init\\_\\_():\n",
    "    1. <b>Descomenten el primer bloque de código y imprima la matriz 'DensidadDeMasa'.</b> Vamos a encontrar todas las propieadades de la materia de cada uno de estas densidades. ¿A que rango de densidades miramos? ¿Que tan denso son los nucleos de los átomos?\n",
    "    1. <b>Escriban la expresión para calcular el constante K</b> (Ecuación 13 de [1]). Verifiquen que tiene unidades de densidad de energía.\n",
    "    1. <b>Usen esta matriz para calcular una matriz de momentos ($\\hat{p}$, ecuación 15 de [1]). Verifiquen que tiene unidades de momento.\n",
    "    1. <b>Usen la matriz de momentos para calcular una matriz de valores de t</b> (Ecuación 14 de [1]). Verifiquen que no tiene unidades.\n",
    "    1. <b>Usen la matriz de $t$ para calcular una matriz de valores de presion</b> (llamado Presion, ecuación 12) y densidad total (llamado DensidadTotal, ecuación 11). Verifiquen que ambas cantidades tienen unidades de densidad de energía.\n",
    "    1. <b>Descomenten el ultimo bloque de codigo</b> para guardar los matrices en la clase EDE.\n",
    "1. Ahora tenemos todos los ecuaciones, pero ¿como podemos calcular la presion si solo sabemos la densidad? <b>Escriben las funciones calcPresion y calcDensidadDeEnergia</b>, usando  calcDensidadDeMasa como un ejemplo.\n",
    "1. Tambien necesitaremos la densidad total, incluso la masa y la energia. <b>Escriban la función calcDensidadTotal</b>. Asegúrense que las unidades devueltas son los de densidad de masa y no densidad de energía."
   ]
  },
  {
   "cell_type": "code",
   "execution_count": 12,
   "id": "ced5dacd",
   "metadata": {
    "scrolled": true
   },
   "outputs": [
    {
     "ename": "AttributeError",
     "evalue": "'EDE' object has no attribute 'log10DensidadDeMasa'",
     "output_type": "error",
     "traceback": [
      "\u001b[0;31m---------------------------------------------------------------------------\u001b[0m",
      "\u001b[0;31mAttributeError\u001b[0m                            Traceback (most recent call last)",
      "\u001b[0;32m/tmp/ipykernel_584/1146402110.py\u001b[0m in \u001b[0;36m<module>\u001b[0;34m\u001b[0m\n\u001b[1;32m     71\u001b[0m \u001b[0;34m\u001b[0m\u001b[0m\n\u001b[1;32m     72\u001b[0m \u001b[0;31m# Hacer un grafico que mostra la ecuacion de estado\u001b[0m\u001b[0;34m\u001b[0m\u001b[0;34m\u001b[0m\u001b[0;34m\u001b[0m\u001b[0m\n\u001b[0;32m---> 73\u001b[0;31m \u001b[0mpres\u001b[0m\u001b[0;34m,\u001b[0m  \u001b[0;34m=\u001b[0m \u001b[0mplt\u001b[0m\u001b[0;34m.\u001b[0m\u001b[0mloglog\u001b[0m\u001b[0;34m(\u001b[0m\u001b[0;36m10\u001b[0m\u001b[0;34m**\u001b[0m\u001b[0mede\u001b[0m\u001b[0;34m.\u001b[0m\u001b[0mlog10DensidadDeMasa\u001b[0m\u001b[0;34m,\u001b[0m \u001b[0;36m10\u001b[0m\u001b[0;34m**\u001b[0m\u001b[0mede\u001b[0m\u001b[0;34m.\u001b[0m\u001b[0mlog10Presion\u001b[0m\u001b[0;34m,\u001b[0m \u001b[0mlabel\u001b[0m\u001b[0;34m=\u001b[0m\u001b[0;34m\"Presión\"\u001b[0m\u001b[0;34m)\u001b[0m\u001b[0;34m\u001b[0m\u001b[0;34m\u001b[0m\u001b[0m\n\u001b[0m\u001b[1;32m     74\u001b[0m \u001b[0medens\u001b[0m\u001b[0;34m,\u001b[0m \u001b[0;34m=\u001b[0m \u001b[0mplt\u001b[0m\u001b[0;34m.\u001b[0m\u001b[0mloglog\u001b[0m\u001b[0;34m(\u001b[0m\u001b[0;36m10\u001b[0m\u001b[0;34m**\u001b[0m\u001b[0mede\u001b[0m\u001b[0;34m.\u001b[0m\u001b[0mlog10DensidadDeMasa\u001b[0m\u001b[0;34m,\u001b[0m \u001b[0;36m10\u001b[0m\u001b[0;34m**\u001b[0m\u001b[0mede\u001b[0m\u001b[0;34m.\u001b[0m\u001b[0mlog10DensidadDeEnergia\u001b[0m\u001b[0;34m,\u001b[0m \u001b[0mlabel\u001b[0m\u001b[0;34m=\u001b[0m\u001b[0;34m\"Densidad de Energía\"\u001b[0m\u001b[0;34m)\u001b[0m\u001b[0;34m\u001b[0m\u001b[0;34m\u001b[0m\u001b[0m\n\u001b[1;32m     75\u001b[0m \u001b[0;34m\u001b[0m\u001b[0m\n",
      "\u001b[0;31mAttributeError\u001b[0m: 'EDE' object has no attribute 'log10DensidadDeMasa'"
     ]
    }
   ],
   "source": [
    "class EDE:\n",
    "    def __init__(self, DensidadDeMasaMin, DensidadDeMasaMax, npoints):\n",
    "        ## crear matriz de densidad de masa\n",
    "        ## Paso 2A \n",
    "        #log10DensidadDeMasaMin = np.log10(DensidadDeMasaMin)\n",
    "        #log10DensidadDeMasaMax = np.log10(DensidadDeMasaMax)\n",
    "        #dlog10DensidadDeMasa = (log10DensidadDeMasaMax - log10DensidadDeMasaMin) / (npoints-1)\n",
    "        #self.log10DensidadDeMasa = np.array([log10DensidadDeMasaMin + i*dlog10DensidadDeMasa for i in range(npoints)])\n",
    "        #DensidadDeMasa = 10**self.log10DensidadDeMasa # g/ccm\n",
    "\n",
    "        # definir constantes para ecuacion 13 de Oppenheimer\n",
    "        # Paso 2B\n",
    "        #K = (COMPLETEN) # erg/ccm\n",
    "        \n",
    "        # crear matriz de phat\n",
    "        # Paso 2C\n",
    "        #phat = (COMPLETEN) # g*cm/s\n",
    "\n",
    "        # crear matriz de t\n",
    "        # Paso 2D\n",
    "        #t = (COMPLETEN) # Paso 2D\n",
    "        \n",
    "        # crear matrices de presion y densidad de energia\n",
    "        # Paso 2E\n",
    "        #DensidadTotal = (COMPLETEN) # erg/ccm # Paso 2D\n",
    "        #Presion       = (COMPLETEN) # erg/ccm # Paso 2D\n",
    "        #DensidadDeEnergia = (COMPLETEN) # erg/ccm # Paso 2D\n",
    "\n",
    "        ## crear matrices logaritmicos para interpolacion\n",
    "        ## Paso 2F\n",
    "        #self.log10DensidadDeMasa    = np.log10(DensidadDeMasa)\n",
    "        #self.log10Presion           = np.log10(Presion)\n",
    "        #self.log10DensidadDeEnergia = np.log10(DensidadDeEnergia)\n",
    "        \n",
    "        return None\n",
    "        \n",
    "\n",
    "    # interpolar presión basado en la densidad de masa\n",
    "    # Paso 3\n",
    "    #def calcPresion(self,DensidadDeMasa): # erg/ccm\n",
    "    #    x = np.log10(DensidadDeMasa)\n",
    "    #    xgrid = self.log10DensidadDeMasa\n",
    "    #    ygrid = self.log10Presion\n",
    "    #    return 10**interpolar(x, xgrid, ygrid)\n",
    "\n",
    "    # interpolar densidad de masa dado la presión\n",
    "    def calcDensidadDeMasa(self,Presion): # g/ccm\n",
    "        #x = np.log10(Presion)\n",
    "        #xgrid = self.log10Presion\n",
    "        #ygrid = self.log10DensidadDeMasa\n",
    "        return 10**interpolar(x, xgrid, ygrid)\n",
    "\n",
    "    # interpolar la densidad de energía basado en la densidad de masa\n",
    "    # Paso 3\n",
    "    #def calcDensidadDeEnergia(self, Presion): # erg/ccm\n",
    "    #    x = np.log10(Presion)\n",
    "    #    xgrid = self.log10Presion\n",
    "    #    ygrid = self.log10DensidadDeEnergia\n",
    "    #    return 10**interpolar(x, xgrid, ygrid)\n",
    "    \n",
    "    # calcular la densidad total basado en la presión\n",
    "    # Paso 4\n",
    "    #def calcDensidadTotal(self, Presion): # g/ccm\n",
    "    #    return self.calcDensidadDeEnergia(Presion)/c**2 + self.calcDensidadDeMasa(Presion)\n",
    "    \n",
    "# inicializar la ecuacion de estadio.\n",
    "# Solo nos importan las densidades entre 1e10 y 1e20 g/ccm,\n",
    "# pero usamos un alcance mas grande para ver como queda.\n",
    "# Calcular 200 puntas, entre de la clase EDE interpola.\n",
    "ede = EDE(1e9, 1e20, 200)\n",
    "\n",
    "# Hacer un grafico que mostra la ecuacion de estado\n",
    "pres,  = plt.loglog(10**ede.log10DensidadDeMasa, 10**ede.log10Presion, label=\"Presión\")\n",
    "edens, = plt.loglog(10**ede.log10DensidadDeMasa, 10**ede.log10DensidadDeEnergia, label=\"Densidad de Energía\")\n",
    "\n",
    "# dibujar la leyenda\n",
    "plt.legend()\n",
    "\n",
    "# dibujar las etiquas de eje\n",
    "plt.xlabel(\"Densidad de Masa (g cm$^{-3}$)\")\n",
    "plt.ylabel(\"Presion y Densidad de Energia (erg cm$^{-3}$)\")\n",
    "plt.show()"
   ]
  },
  {
   "cell_type": "markdown",
   "id": "6fdfb9b8",
   "metadata": {},
   "source": [
    "Ahora, tenemos una descripción de materia densa! Pero necesitamos usarlo para calcular propiedades de estrellas de neutrones. <b>Comparar nuestras estrellas teoreticas contra estrellas reales va a verificar si este ecuacion de estado sea correcto.</b>"
   ]
  },
  {
   "cell_type": "markdown",
   "id": "e54cc7fc",
   "metadata": {},
   "source": [
    "# Ingrediente 2: Ecuaciónes de la Estructura de Estrellas Relativistas"
   ]
  },
  {
   "cell_type": "markdown",
   "id": "7fe7f2ef",
   "metadata": {},
   "source": [
    "No vamos a derivar las ecuaciones de la estructura de estrellas relativistas aqui. Pero podemos encontrar las ecuaciones relevantes en la literatura cientifica y convertirles a codigo.\n",
    "\n",
    "Las cantidades importantes son:\n",
    "- $\\rho_\\mathrm{tot}$: la densidad de masa y energia juntos\n",
    "- $M(r)$: la masa total dentro de un radio $r$\n",
    "- $P$: la presión\n",
    "\n",
    "Ahora, el trabajo:\n",
    "\n",
    "1. <b>Encuentra las ecuaciones de la estructura de estrellas relativistas</b> en el articulo de Oppenheimer y Volkoff</br>\n",
    "https://journals.aps.org/pr/pdf/10.1103/PhysRev.55.374\n",
    "\n",
    "1. Antes de implementar las ecuaciones, <b>verifica que podemos recuperar las ecuaciones de la structura de estrellas normales</b> en el limite de una estrella no relativista (i.e., $P << \\rho_\\mathrm{tot}$).\n",
    "\n",
    "1. Entonces, <b>escribe el codigo que calcula las derivadas de presion y masa total interna</b>.\n",
    "\n",
    "1. <b>Ejecuta el codigo</b> y verifica que los numeros coinciden con los esperados (fueron calculados por mí más temprano).\n",
    "\n",
    "Ahora tenemos las ecuaciones diferenciales que vamos a usar para construir estrellas teoreticas. <b>Comparar nuestras estrellas teoreticas contra estrellas reales va a verificar si este ecuacion de estado sea correcto.</b>"
   ]
  },
  {
   "cell_type": "code",
   "execution_count": 13,
   "id": "3ebcfc82",
   "metadata": {},
   "outputs": [
    {
     "ename": "AttributeError",
     "evalue": "'EDE' object has no attribute 'calcPresion'",
     "output_type": "error",
     "traceback": [
      "\u001b[0;31m---------------------------------------------------------------------------\u001b[0m",
      "\u001b[0;31mAttributeError\u001b[0m                            Traceback (most recent call last)",
      "\u001b[0;32m/tmp/ipykernel_584/2753864621.py\u001b[0m in \u001b[0;36m<module>\u001b[0;34m\u001b[0m\n\u001b[1;32m     15\u001b[0m \u001b[0mr\u001b[0m \u001b[0;34m=\u001b[0m \u001b[0;36m1e5\u001b[0m \u001b[0;31m# cm\u001b[0m\u001b[0;34m\u001b[0m\u001b[0;34m\u001b[0m\u001b[0m\n\u001b[1;32m     16\u001b[0m \u001b[0mDensidadDeMasa\u001b[0m \u001b[0;34m=\u001b[0m \u001b[0;36m1e12\u001b[0m \u001b[0;31m# g/ccm\u001b[0m\u001b[0;34m\u001b[0m\u001b[0;34m\u001b[0m\u001b[0m\n\u001b[0;32m---> 17\u001b[0;31m \u001b[0mPresion\u001b[0m \u001b[0;34m=\u001b[0m \u001b[0mede\u001b[0m\u001b[0;34m.\u001b[0m\u001b[0mcalcPresion\u001b[0m\u001b[0;34m(\u001b[0m\u001b[0mDensidadDeMasa\u001b[0m\u001b[0;34m)\u001b[0m \u001b[0;31m# erg/ccm\u001b[0m\u001b[0;34m\u001b[0m\u001b[0;34m\u001b[0m\u001b[0m\n\u001b[0m\u001b[1;32m     18\u001b[0m \u001b[0mMasaTotalInterna\u001b[0m \u001b[0;34m=\u001b[0m \u001b[0;36m1e33\u001b[0m \u001b[0;31m# g\u001b[0m\u001b[0;34m\u001b[0m\u001b[0;34m\u001b[0m\u001b[0m\n\u001b[1;32m     19\u001b[0m \u001b[0;34m\u001b[0m\u001b[0m\n",
      "\u001b[0;31mAttributeError\u001b[0m: 'EDE' object has no attribute 'calcPresion'"
     ]
    }
   ],
   "source": [
    "# que tan rápido cambia la presión con el radio\n",
    "# basado en el radio r, la densidad total, la presión, y la masa total interna en el radio r\n",
    "# Paso 3\n",
    "def dPresion_dr(r, DensidadTotal, Presion, MasaTotalInterna): # cm, g/ccm, erg/ccm, g\n",
    "    #result = (COMPLETEN) # erg/ccm/cm\n",
    "    return result\n",
    "    \n",
    "# que tan rápido cambia la masa total interna con el radio\n",
    "# basado en el radio r y la densidad total en el radio r\n",
    "# Paso 3\n",
    "def dMasaTotalInterna_dr(r, DensidadTotal): # cm, g/ccm\n",
    "    #result = (COMPLETEN) # g\n",
    "    return result\n",
    "\n",
    "r = 1e5 # cm\n",
    "DensidadDeMasa = 1e12 # g/ccm\n",
    "Presion = ede.calcPresion(DensidadDeMasa) # erg/ccm\n",
    "MasaTotalInterna = 1e33 # g\n",
    "\n",
    "print(\"dPresion_dr esperado: \", 1.3770551299991524e+28)\n",
    "print(\"dPresion_dr calculado: \", dPresion_dr(r, DensidadDeMasa, Presion, MasaTotalInterna))\n",
    "print()\n",
    "print(\"dMasaTotalInterna_dr esperado: \", 1.25663706144e+23)\n",
    "print(\"dMasaTotalInterna_dr calculado: \",dMasaTotalInterna_dr(r, DensidadDeMasa))"
   ]
  },
  {
   "cell_type": "markdown",
   "id": "9a9ad93e",
   "metadata": {},
   "source": [
    "Tenemos las ecuaciones diferenciales en la computadora! Vamos a <b>integrar las ecuaciones aproximadamente</b> con el método de diferencias finitas. Primero, di cuenta de que una derivada es approximada por un relación de diferencias:\n",
    "\n",
    "$\\frac{df}{dr} \\approx \\frac{\\Delta f}{\\Delta r}$\n",
    "\n",
    "Como así, si sabemos la presion $P$ y masa interna $M$ en un radio $r$, podemos avanzar un paso $dr$ usando\n",
    "\n",
    "$P(r+dr) \\approx P(r) + dr \\frac{dP}{dr}$\n",
    "\n",
    "$M(r+dr) \\approx M(r) + dr \\frac{dM}{dr}$\n",
    "\n",
    "<b>Escriben una función que avanza $P$ y $M$ por un paso $dr$.</b>\n",
    "- `r0` es el radio r\n",
    "- `Presion0` es la presion en r1\n",
    "- `MasaTotalInterna0` es la masa total interna dentro de r\n",
    "- `dr` es el tamaño  del paso\n",
    "- `ede` es el ecuación de estado que hemos escrito más arriba"
   ]
  },
  {
   "cell_type": "code",
   "execution_count": 14,
   "id": "cf5eba6e",
   "metadata": {},
   "outputs": [],
   "source": [
    "# avanzar la presion y masa total interna hacia afuera por un paso dr\n",
    "def integrar(r0, Presion0, MasaTotalInterna0, dr, ede):\n",
    "\n",
    "    # calcular la densidad total en radio r0 usando la clases EDE\n",
    "    #DensidadTotal0 = (COMPLETEN)\n",
    "    \n",
    "    # calcular las derivadas en el radio r0 usando las funciones arriba\n",
    "    #dPdr = (COMPLETEN)\n",
    "    #dMdr = (COMPLETEN)\n",
    "\n",
    "    # avanzar el radio, presion, y masa total interna\n",
    "    #r1 = (COMPLETEN)\n",
    "    #Presion1          = (COMPLETEN)\n",
    "    #MasaTotalInterna1 = (COMPLETEN)\n",
    "\n",
    "    return r1, Presion1, MasaTotalInterna1"
   ]
  },
  {
   "cell_type": "markdown",
   "id": "e9d82e84",
   "metadata": {},
   "source": [
    "Finalmente, escribiremos <b>la función para construir una estrella completa</b>. Vamos a elegir una densidad central, y entonces integrar las ecuaciones hasta que llegamos al superficie. Todo que necesitamos hacer es usar nuestra función `integrar` para tomar muchos pasos.\n",
    "\n",
    "- `dr` es el tamaño de cada paso, empezando con $r=0$. Valores más peqeños hacen una resolución más precisa.\n",
    "- `DensidadDeMasaAlCentro` es la densidad de masa al centro de la estrella. Elegimos un valor, y el resto de la estrella será calculado.\n",
    "- `DensidadDeMasa_parar` es la densidad de masa en que paramos de integrar. Significa la densidad en lo que llamaremos \"el superficie\".\n",
    "- `imprimir` deja que imprimos cada paso\n",
    "\n",
    "1. <b>Descomenten el primer bloque de codigo.</b> Estas son las condiciones en el centro de la estrella, determinadas por la `DensidadDeMasaAlCentro`\n",
    "1. <b>Escriben la masa total interna dentro del primer paso.</b> Esto es física basica - no piensen mucho en ello.\n",
    "1. El ciclo while seguirá tomando pasos hasta que la densidad de masa sea sufficientamente peqeño.\n",
    "    1. <b>Usen la función `integrar`</b> para tomar un paso en r, Presion, y MasaTotalInterna.\n",
    "    1. <b>Usen la función `ede.calcDensidadDeMasa`</b> para obtener la densidad de masa después del paso.\n",
    "    1. <b>¿Cuales valores imprimos en cada paso? ¿Que significan?</b>\n",
    "1. Ejecuten el código más abajo para construir una estrella con una densidad de masa interna de $10^{15}\\,\\mathrm{g/cm}^3$. <b>¿Que son el radio y masa total de la estrella de neutrones?</b>"
   ]
  },
  {
   "cell_type": "code",
   "execution_count": 7,
   "id": "198c22c8",
   "metadata": {},
   "outputs": [
    {
     "name": "stdout",
     "output_type": "stream",
     "text": [
      "Paso   Radio(km)   DensidadDeMasa(g/ccm)   MasaTotalInterna(Msol)\n",
      "0\t0.0002\t999999999501047.2\t9.1553247979392e-15\n",
      "1000\t0.1002\t999750447676359.6\t2.29878465981891e-06\n",
      "2000\t0.2002\t999002353742313.6\t1.834034158110653e-05\n",
      "3000\t0.3002\t997756789277418.1\t6.18036619240647e-05\n",
      "4000\t0.4002\t996015540466355.8\t0.00014628156279394473\n",
      "5000\t0.5002\t993781102802227.0\t0.0002852380315238094\n",
      "6000\t0.6002\t991056675631572.2\t0.0004919660698158282\n",
      "7000\t0.7002\t987846155179875.1\t0.0007795462007722598\n",
      "8000\t0.8002\t984154126060423.1\t0.001160805798756084\n",
      "9000\t0.9002\t979985851282826.1\t0.0016482793981959587\n",
      "10000\t1.0002\t975347260782298.0\t0.002254170132899426\n",
      "11000\t1.1002\t970244938494614.9\t0.0029903124521839844\n",
      "12000\t1.2002\t964686108005239.6\t0.003868136254202363\n",
      "13000\t1.3002\t958678616804472.0\t0.004898632570255126\n",
      "14000\t1.4002\t952230919184012.2\t0.006092320926681828\n",
      "15000\t1.5002\t945352057814068.6\t0.007459218503136566\n",
      "16000\t1.6002\t938051644043135.0\t0.009008811197723452\n",
      "17000\t1.7002\t930346073302754.9\t0.010750028660257913\n",
      "18000\t1.8002\t922252861126201.6\t0.012691244510178843\n",
      "19000\t1.9002\t913770669228431.9\t0.014840215543909074\n",
      "20000\t2.0002\t904911062834895.4\t0.017204066034191026\n",
      "21000\t2.1002\t895686059327956.0\t0.019789276988061266\n",
      "22000\t2.2002\t886108102129855.2\t0.02260167036769826\n",
      "23000\t2.3002\t876190033783308.8\t0.025646395708130574\n",
      "24000\t2.4002\t865945068276238.4\t0.028927919162108073\n",
      "25000\t2.5002\t855386762666971.5\t0.0324500149914782\n",
      "26000\t2.6002\t844528988074153.6\t0.0362157595134164\n",
      "27000\t2.7002\t833385900101313.1\t0.04022752749888651\n",
      "28000\t2.8002\t821971908770698.5\t0.04448699100981687\n",
      "29000\t2.9002\t810326700439805.0\t0.048995186251818645\n",
      "30000\t3.0002\t798441027921616.1\t0.05375247670986522\n",
      "31000\t3.1002\t786328537293360.0\t0.05875846230122995\n",
      "32000\t3.2002\t774004236474957.6\t0.06401205899867041\n",
      "33000\t3.3002\t761483237333124.4\t0.06951150924955898\n",
      "34000\t3.4002\t748780724630613.2\t0.07525439437973244\n",
      "35000\t3.5002\t735911925101169.0\t0.08123764905399365\n",
      "36000\t3.6002\t722892875035789.1\t0.08745757779832927\n",
      "37000\t3.7002\t709764958685732.1\t0.0939100045106384\n",
      "38000\t3.8002\t696515575890176.0\t0.10059016105830208\n",
      "39000\t3.9002\t683159715343589.9\t0.10749259664039942\n",
      "40000\t4.0002\t669712264673257.2\t0.11461131220131891\n",
      "41000\t4.1002\t656187982164968.2\t0.1219397849123728\n",
      "42000\t4.2002\t642601469211348.5\t0.12947099395636608\n",
      "43000\t4.3002\t628982863765390.9\t0.1371975025771058\n",
      "44000\t4.4002\t615341338912948.5\t0.14511163037094107\n",
      "45000\t4.5002\t601678984591448.1\t0.1532050732067296\n",
      "46000\t4.6002\t588009440414537.6\t0.161469110901665\n",
      "47000\t4.7002\t574346072598394.4\t0.1698946668582769\n",
      "48000\t4.8002\t560701980874008.2\t0.17847233877101007\n",
      "49000\t4.9002\t547115148864187.56\t0.18719262935598727\n",
      "50000\t5.0002\t533571386163605.06\t0.19604578447116777\n",
      "51000\t5.1002\t520082703145309.3\t0.2050216204617566\n",
      "52000\t5.2002\t506660748573948.9\t0.21410975061981305\n",
      "53000\t5.3002\t493317486611757.44\t0.2232996166666782\n",
      "54000\t5.4002\t480085421354539.25\t0.23258075220516314\n",
      "55000\t5.5002\t466951260982279.5\t0.2419425587358856\n",
      "56000\t5.6002\t453925031194514.44\t0.25137414904399474\n",
      "57000\t5.7002\t441016340400238.6\t0.26086458306550203\n",
      "58000\t5.8002\t428245035495282.8\t0.27040295661655\n",
      "59000\t5.9002\t415618456210782.94\t0.27997865800710336\n",
      "60000\t6.0002\t403134173255732.7\t0.28958081348880915\n",
      "61000\t6.1002\t390800038815673.3\t0.29919854884381764\n",
      "62000\t6.2002\t378629858115090.94\t0.30882109904371835\n",
      "63000\t6.3002\t366635632676544.2\t0.3184381187933529\n",
      "64000\t6.4002\t354811018656302.94\t0.32803914773122655\n",
      "65000\t6.5002\t343162101155453.06\t0.3376137723405305\n",
      "66000\t6.6002\t331702183733166.06\t0.34715180172605015\n",
      "67000\t6.7002\t320436614175390.0\t0.356643533192969\n",
      "68000\t6.8002\t309361021249262.94\t0.3660791831739373\n",
      "69000\t6.9002\t298479784973016.94\t0.375449127721206\n",
      "70000\t7.0002\t287808710089702.1\t0.38474414589318123\n",
      "71000\t7.1002\t277340619873497.72\t0.3939553966737511\n",
      "72000\t7.2002\t267076292332945.47\t0.40307402227921274\n",
      "73000\t7.3002\t257023847552319.2\t0.41209148375744625\n",
      "74000\t7.4002\t247186715855229.78\t0.4209998179133209\n",
      "75000\t7.5002\t237559415135850.1\t0.4297911056618465\n",
      "76000\t7.6002\t228145901795071.97\t0.43845768031077215\n",
      "77000\t7.7002\t218953383347776.8\t0.446992459709333\n",
      "78000\t7.8002\t209973737386241.7\t0.4553885383642409\n",
      "79000\t7.9002\t201209193224190.3\t0.46363922106841593\n",
      "80000\t8.0002\t192666171456784.38\t0.47173838975401233\n",
      "81000\t8.1002\t184336378785466.4\t0.47968015442962114\n",
      "82000\t8.2002\t176221877817532.66\t0.4874588489474407\n",
      "83000\t8.3002\t168325560664362.0\t0.4950693893351474\n",
      "84000\t8.4002\t160640503424972.22\t0.5025068819779588\n",
      "85000\t8.5002\t153169479674837.6\t0.5097667359605762\n",
      "86000\t8.6002\t145910522943767.66\t0.5168449072886021\n",
      "87000\t8.7002\t138858895415866.6\t0.5237374896847993\n",
      "88000\t8.8002\t132018448429524.53\t0.5304410168230765\n",
      "89000\t8.9002\t125382073954546.33\t0.536952409162817\n",
      "90000\t9.0002\t118949729537308.77\t0.5432687884810377\n",
      "91000\t9.1002\t112719646622438.98\t0.5493877917513272\n",
      "92000\t9.2002\t106687108792852.06\t0.5553072323897094\n",
      "93000\t9.3002\t100853345383587.36\t0.5610253603329938\n",
      "94000\t9.4002\t95211696480564.97\t0.5665407121715369\n",
      "95000\t9.5002\t89762887726275.53\t0.5718521335046927\n",
      "96000\t9.6002\t84501405230651.11\t0.5769588476141319\n",
      "97000\t9.7002\t79426424823673.5\t0.5818603168118667\n",
      "98000\t9.8002\t74533489838798.61\t0.586556399022732\n",
      "99000\t9.9002\t69820964860888.445\t0.5910471799146462\n",
      "100000\t10.0002\t65284624392655.555\t0.5953331223280809\n",
      "101000\t10.1002\t60922773305382.46\t0.5994149284049951\n",
      "102000\t10.2002\t56730914982064.61\t0.6032936430752189\n",
      "103000\t10.3002\t52707754019456.29\t0.6069705792868413\n",
      "104000\t10.4002\t48848784395302.05\t0.6104473441627991\n",
      "105000\t10.5002\t45151817615462.63\t0.6137258497351238\n",
      "106000\t10.6002\t41613774607669.45\t0.6168082650429053\n",
      "107000\t10.7002\t38231441886839.89\t0.6196970709420608\n",
      "108000\t10.8002\t35002467610196.0\t0.622395022768163\n",
      "109000\t10.9002\t31923829641966.23\t0.6249051532773776\n",
      "110000\t11.0002\t28992746724760.883\t0.627230793255554\n",
      "111000\t11.1002\t26206697935811.086\t0.6293755596646331\n",
      "112000\t11.2002\t23563337649855.18\t0.6313433613054482\n",
      "113000\t11.3002\t21060248569522.246\t0.6331384072575217\n",
      "114000\t11.4002\t18695212574306.61\t0.6347652180568656\n",
      "115000\t11.5002\t16466256056602.287\t0.6362286349378932\n",
      "116000\t11.6002\t14371619469337.334\t0.6375338355734905\n",
      "117000\t11.7002\t12409806305153.041\t0.638686354385783\n",
      "118000\t11.8002\t10579691123083.508\t0.6396921090535447\n",
      "119000\t11.9002\t8880473739548.33\t0.6405574350890503\n",
      "120000\t12.0002\t7311897260224.13\t0.6412891295798099\n",
      "121000\t12.1002\t5874429113473.035\t0.6418945138610601\n",
      "122000\t12.2002\t4569392734137.35\t0.6423815152012646\n",
      "123000\t12.3002\t3399428920017.654\t0.6427587856732928\n",
      "124000\t12.4002\t2369134100097.226\t0.6430358768407358\n",
      "125000\t12.5002\t1486317950991.4429\t0.6432235171659225\n",
      "126000\t12.6002\t764835088672.4089\t0.6433340997311741\n",
      "127000\t12.7002\t233069570682.90558\t0.6433827085189954\n",
      "127738\t12.7739\t9972805740.421808\t0.6433906698168721\n"
     ]
    }
   ],
   "source": [
    "def calcularRadioYMasa(dr, DensidadDeMasaAlCentro, DensidadDeMasa_parar, ede, imprimir=False):\n",
    "    # condiciones iniciales (al centro de la estrella). Tomar el primer paso\n",
    "    # Paso 1\n",
    "    r = dr\n",
    "    DensidadDeMasa = DensidadDeMasaAlCentro\n",
    "    Presion = ede.calcPresion(DensidadDeMasa) # erg/ccm\n",
    "    DensidadTotal = ede.calcDensidadTotal(Presion) # g/ccm\n",
    "    \n",
    "    # calcular la masa interna despues del primer paso\n",
    "    # Paso 2\n",
    "    #MasaTotalInterna = (COMPLETEN) # g\n",
    "    \n",
    "    # hacer pasos hasta la densidad de masa esta demasiado pequeno\n",
    "    i=0\n",
    "    while DensidadDeMasa > DensidadDeMasa_parar:\n",
    "        \n",
    "        # avanzar el radio, la presión, y la masa total interna por un paso dr usando la functión integrar()\n",
    "        # Paso 3A\n",
    "        #r, Presion, MasaTotalInterna = (COMPLETEN)\n",
    "        \n",
    "        # calcular la densidad de masa en el radio nuevo usando la clase EDE\n",
    "        # Paso 3B\n",
    "        #DensidadDeMasa = (COMPLETEN)\n",
    "        \n",
    "        # imprimir el radio (km), la densidad de masa (g/ccm), y la masa total interna (g)\n",
    "        if imprimir and i%1000==0:\n",
    "            print(str(i)+\"\\t\"+str(r/km)+\"\\t\"+str(DensidadDeMasa)+\"\\t\"+str(MasaTotalInterna/Msol))\n",
    "        i = i+1\n",
    "    if imprimir:\n",
    "        print(str(i)+\"\\t\"+str(r/km)+\"\\t\"+str(DensidadDeMasa)+\"\\t\"+str(MasaTotalInterna/Msol))\n",
    "        \n",
    "    return r, MasaTotalInterna\n",
    "\n",
    "\n",
    "\n",
    "print(\"Paso   Radio(km)   DensidadDeMasa(g/ccm)   MasaTotalInterna(Msol)\")\n",
    "\n",
    "# constantes que determinan la caulidad de la calculacion\n",
    "dr = 10 # cm\n",
    "DensidadDeMasa_parar = 1e10\n",
    "\n",
    "# Tratar de calcular la masa y radio de solo una estrella de neutrones\n",
    "DensidadDeMasaAlCentro = 1e15\n",
    "R, M = calcularRadioYMasa(dr, DensidadDeMasaAlCentro, DensidadDeMasa_parar, ede, True)"
   ]
  },
  {
   "cell_type": "markdown",
   "id": "85f7e1dd",
   "metadata": {},
   "source": [
    "# Errores Numéricos\n",
    "\n",
    "Los parametros `dr` y `DensidadDeMasa_parar` fueron elegidos por nosotros. <b>Las propiedades de las estrellas de neutrones deben ser independentes de nuestros elecciones, sino los numeros significan nada de la naturaleza real.</b>.\n",
    "1. <b>Calcula el radio y la masa con valores diferentes.</b> ¿Que tan grande podemos hacer `dr` antes de que los resultados cambian significativamente?"
   ]
  },
  {
   "cell_type": "code",
   "execution_count": 8,
   "id": "4dde7c85",
   "metadata": {},
   "outputs": [
    {
     "name": "stdout",
     "output_type": "stream",
     "text": [
      "radio = 12.7739 km\n",
      "masa = 0.6433906698168721 Msol\n"
     ]
    }
   ],
   "source": [
    "dr = 10 # cm\n",
    "DensidadDeMasa_parar = 1e10\n",
    "DensidadDeMasaAlCentro = 1e15\n",
    "R, M = calcularRadioYMasa(dr, DensidadDeMasaAlCentro, DensidadDeMasa_parar, ede, False)\n",
    "print(\"radio =\",R/1e5,\"km\")\n",
    "print(\"masa =\",M/Msol,\"Msol\")"
   ]
  },
  {
   "cell_type": "markdown",
   "id": "149a4f82",
   "metadata": {},
   "source": [
    "# Esa fue una estrella. ¿Como ven todas las estrellas de neutrones posibles?\n",
    "\n",
    "Ahora vamos a calcular la masa y el radio de varias estrellas con densidades centrales diferentes.\n",
    "1. ¿Que significa la matríz `DensidadesALosCentros`?\n",
    "1. ¿Que significan las cantidades `ListaDeR` y `ListaDeM`?\n",
    "1. <b>Ejecuten el codigo abajo para construir varias estrellas.</b> Podría llevar unos minutos."
   ]
  },
  {
   "cell_type": "code",
   "execution_count": 9,
   "id": "5c6f3443",
   "metadata": {},
   "outputs": [
    {
     "name": "stdout",
     "output_type": "stream",
     "text": [
      "DensidadDeMasaAlCentro(g/ccm)   Radio(km)   Masa(Msol)\n",
      "100000000000000.12 20.8438 0.3122007185953981\n",
      "115139539932644.64 20.293 0.3305360528871063\n",
      "132571136559011.48 19.7504 0.34953507294450326\n",
      "152641796717523.7 19.2157 0.36915638973379156\n",
      "175751062485479.22 18.6887 0.38934670076594363\n",
      "202358964772515.34 18.1691 0.41003978742742636\n",
      "232995181051537.97 17.6569 0.4311533094706766\n",
      "268269579527972.9 17.1518 0.45259440033045656\n",
      "308884359647747.9 16.6538 0.4742538522096474\n",
      "355648030622314.44 16.1626 0.49600737091286623\n",
      "409491506238043.44 15.6784 0.5177160657156247\n",
      "471486636345739.44 15.201 0.5392272222145924\n",
      "542867543932385.0 14.7304 0.5603756234978973\n",
      "625055192527399.4 14.2668 0.5809854240892275\n",
      "719685673001152.9 13.8103 0.6008726037302283\n",
      "828642772854683.8 13.3611 0.6198453415526262\n",
      "954095476349998.0 12.9194 0.6377138923382898\n",
      "1098541141987560.6 12.4854 0.6542916010938977\n",
      "1264855216855296.2 12.0595 0.6693972237184894\n",
      "1456348477501241.0 11.642 0.6828609230602052\n",
      "1676832936811013.5 11.2332 0.6945288196188356\n",
      "1930697728883252.5 10.8337 0.7042673483246863\n",
      "2222996482526192.8 10.4437 0.7119672040162062\n",
      "2559547922699546.5 10.0639 0.7175466954807832\n",
      "2947051702551817.0 9.6947 0.7209540179267242\n",
      "3393221771895329.0 9.3366 0.7221701899815788\n",
      "3906939937054609.5 8.9901 0.7212091108805662\n",
      "4498432668969460.0 8.6556 0.7181157210716475\n",
      "5179474679231217.0 8.3334 0.7129655478258583\n",
      "5963623316594638.0 8.0241 0.7058623619639877\n",
      "6866488450043030.0 7.7281 0.6969350573716548\n",
      "7906043210907716.0 7.4456 0.6863339359089656\n",
      "9102981779915220.0 7.1771 0.6742265976412539\n",
      "1.0481131341546838e+16 6.9228 0.6607939528797747\n",
      "1.2067926406393324e+16 6.6831 0.6462313196829624\n",
      "1.3894954943731392e+16 6.4582 0.6307271960844225\n",
      "1.5998587196060566e+16 6.2483 0.6144760960318152\n",
      "1.8420699693267236e+16 6.0537 0.5976701689323408\n",
      "2.120950887920195e+16 5.8746 0.5804964998582781\n",
      "2.442053094548651e+16 5.7112 0.5631350164311255\n",
      "2.811768697974225e+16 5.5639 0.5457570135951891\n",
      "3.237457542817654e+16 5.433 0.5285242827330544\n",
      "3.727593720314944e+16 5.3188 0.5115888136100077\n",
      "4.2919342601287736e+16 5.2218 0.4950976954454704\n",
      "4.941713361323854e+16 5.1426 0.47918063132819266\n",
      "5.689866029018309e+16 5.0815 0.4639615705391065\n",
      "6.551285568595509e+16 5.0393 0.4495595517709356\n",
      "7.543120063354602e+16 5.0167 0.43608862132805476\n",
      "8.685113737513554e+16 5.0142 0.42365928720628065\n",
      "1.000000000000001e+17 5.0325 0.41237970906702587\n"
     ]
    },
    {
     "data": {
      "text/plain": [
       "<matplotlib.collections.PathCollection at 0x7fe1f1548880>"
      ]
     },
     "execution_count": 9,
     "metadata": {},
     "output_type": "execute_result"
    },
    {
     "data": {
      "image/png": "[encoded data removed]",
      "text/plain": [
       "<Figure size 432x288 with 1 Axes>"
      ]
     },
     "metadata": {
      "needs_background": "light"
     },
     "output_type": "display_data"
    }
   ],
   "source": [
    "print(\"DensidadDeMasaAlCentro(g/ccm)   Radio(km)   Masa(Msol)\")\n",
    "\n",
    "# Calcula la masa y radio de muchos estrellas de neutrinos y hacer un grafico\n",
    "DensidadDeMasaAlCentro0 = 1e14 # g/ccm\n",
    "DensidadDeMasaAlCentro1 = 1e17 # g/ccm\n",
    "NumeroDeEstrellas = 50\n",
    "\n",
    "# Crea la matríz de densiaded centrales. Cada elemento representa una estrella diferente.\n",
    "DensidadesALosCentros = np.exp(np.linspace(np.log(DensidadDeMasaAlCentro0), np.log(DensidadDeMasaAlCentro1), NumeroDeEstrellas))\n",
    "\n",
    "# Crea listas vacías de radios y masas.\n",
    "ListaDeR = []\n",
    "ListaDeM = []\n",
    "\n",
    "# Buclar sobre las densidades centrales y obtener un radio y una masa para cada uno\n",
    "for iEstrella in range(NumeroDeEstrellas):\n",
    "    DensidadDeMasaAlCentro = DensidadesALosCentros[iEstrella]\n",
    "    R,M = calcularRadioYMasa(dr, DensidadDeMasaAlCentro, DensidadDeMasa_parar, ede, False)\n",
    "    ListaDeR.append(R/km)\n",
    "    ListaDeM.append(M/Msol)\n",
    "    print(DensidadDeMasaAlCentro, R/km, M/Msol)\n",
    "    \n",
    "# Dibujar una gráfica de los datos\n",
    "plt.grid()\n",
    "plt.xlabel(\"Radio (km)\")\n",
    "plt.ylabel(\"Masa (Msol)\")\n",
    "plt.scatter(ListaDeR, ListaDeM)"
   ]
  },
  {
   "cell_type": "markdown",
   "id": "823d0916",
   "metadata": {},
   "source": [
    "# Finalmente, la ciencia!\n",
    "1.  <b>Entender el gráfico</b>\n",
    "    1. ¿Cuál punto corresponde a la densidad central más pequeña?\n",
    "    1. ¿Cuál es la mas grande?\n",
    "    1. ¿Por qué no podemos hacer una estrella con una masa y radio arbitrariamente grande?\n",
    "    1. ¿Qué es la masa máxima de un estrella de neutrones con nuestra teoría?\n",
    "    \n",
    "1. <b>Comparar con estrellas reales.</b> Diríjanse al vínculo https://stellarcollapse.org/index.php/nsmasses.html. Se puede ver que las masas de estrellas de neutrones tienen barras de error con tamaños muy diferentes.\n",
    "    1. ¿Cuál es la masa más grande con barras de error pequeñas?\n",
    "    1. ¿Qué masas predichas por nuestra teoría son compatibles con las mediciones experimentales de las masas de las estrellas?\n",
    "    \n",
    "1. Vayan al artículo en https://arxiv.org/abs/1912.05703 y miren la Figura 1. NICER es un instrumento especial en la International Space Station, y con eso los científicos tratan de introducir la masa y el radio de estrellas de neutrones para entender mejor la ecuación de estado. Este figura muestra los errores de las mediciones de luz a errores de masa y radio. <b>¿Están nuestras resultados dentro de los errores de medición indicadas en dicha figura?</b>\n",
    "\n",
    "1. Vayan al artículo en https://arxiv.org/abs/1701.02752 y miren la Figura 2. En ésta se muestra los resultados de varias teorías más complicadas. <b>¿Cuántos de dichas teorías pueden ser correctas?</b>\n",
    "\n",
    "1. <b>Preguntas abiertas</b>:\n",
    "    1. ¿Qué tan interesante son los descubrimientos en ésta área para el público en general?\n",
    "    1. ¿Qué falta entender en nuestras teorías?\n",
    "    1. ¿Es nuestra teoría equivocada ó solo una parte de la historia?\n",
    "    1. ¿Cómo puede alguien contribuir algo en este campo de investigación? "
   ]
  }
 ],
 "metadata": {
  "kernelspec": {
   "display_name": "Python 3 (ipykernel)",
   "language": "python",
   "name": "python3"
  },
  "language_info": {
   "codemirror_mode": {
    "name": "ipython",
    "version": 3
   },
   "file_extension": ".py",
   "mimetype": "text/x-python",
   "name": "python",
   "nbconvert_exporter": "python",
   "pygments_lexer": "ipython3",
   "version": "3.8.10"
  }
 },
 "nbformat": 4,
 "nbformat_minor": 5
}
